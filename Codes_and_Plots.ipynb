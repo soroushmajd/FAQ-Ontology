{
  "nbformat": 4,
  "nbformat_minor": 0,
  "metadata": {
    "colab": {
      "provenance": [],
      "gpuType": "T4"
    },
    "kernelspec": {
      "name": "python3",
      "display_name": "Python 3"
    },
    "language_info": {
      "name": "python"
    },
    "accelerator": "GPU"
  },
  "cells": [
    {
      "cell_type": "code",
      "source": [
        "!pip install Transformers"
      ],
      "metadata": {
        "colab": {
          "base_uri": "https://localhost:8080/"
        },
        "id": "OygK1zQQOuo6",
        "outputId": "0c4e508d-c4a4-4d04-8507-7918ed48547c"
      },
      "execution_count": 1,
      "outputs": [
        {
          "output_type": "stream",
          "name": "stdout",
          "text": [
            "Collecting Transformers\n",
            "  Downloading transformers-4.30.2-py3-none-any.whl (7.2 MB)\n",
            "\u001b[?25l     \u001b[90m━━━━━━━━━━━━━━━━━━━━━━━━━━━━━━━━━━━━━━━━\u001b[0m \u001b[32m0.0/7.2 MB\u001b[0m \u001b[31m?\u001b[0m eta \u001b[36m-:--:--\u001b[0m\r\u001b[2K     \u001b[91m━━━━━\u001b[0m\u001b[91m╸\u001b[0m\u001b[90m━━━━━━━━━━━━━━━━━━━━━━━━━━━━━━━━━━\u001b[0m \u001b[32m1.0/7.2 MB\u001b[0m \u001b[31m30.9 MB/s\u001b[0m eta \u001b[36m0:00:01\u001b[0m\r\u001b[2K     \u001b[91m━━━━━━━━━━━━━━━━━━━━━━━━━━━━━━━━━━━━━━━\u001b[0m\u001b[91m╸\u001b[0m \u001b[32m7.2/7.2 MB\u001b[0m \u001b[31m112.5 MB/s\u001b[0m eta \u001b[36m0:00:01\u001b[0m\r\u001b[2K     \u001b[90m━━━━━━━━━━━━━━━━━━━━━━━━━━━━━━━━━━━━━━━━\u001b[0m \u001b[32m7.2/7.2 MB\u001b[0m \u001b[31m75.9 MB/s\u001b[0m eta \u001b[36m0:00:00\u001b[0m\n",
            "\u001b[?25hRequirement already satisfied: filelock in /usr/local/lib/python3.10/dist-packages (from Transformers) (3.12.2)\n",
            "Collecting huggingface-hub<1.0,>=0.14.1 (from Transformers)\n",
            "  Downloading huggingface_hub-0.16.4-py3-none-any.whl (268 kB)\n",
            "\u001b[2K     \u001b[90m━━━━━━━━━━━━━━━━━━━━━━━━━━━━━━━━━━━━━━\u001b[0m \u001b[32m268.8/268.8 kB\u001b[0m \u001b[31m30.9 MB/s\u001b[0m eta \u001b[36m0:00:00\u001b[0m\n",
            "\u001b[?25hRequirement already satisfied: numpy>=1.17 in /usr/local/lib/python3.10/dist-packages (from Transformers) (1.22.4)\n",
            "Requirement already satisfied: packaging>=20.0 in /usr/local/lib/python3.10/dist-packages (from Transformers) (23.1)\n",
            "Requirement already satisfied: pyyaml>=5.1 in /usr/local/lib/python3.10/dist-packages (from Transformers) (6.0)\n",
            "Requirement already satisfied: regex!=2019.12.17 in /usr/local/lib/python3.10/dist-packages (from Transformers) (2022.10.31)\n",
            "Requirement already satisfied: requests in /usr/local/lib/python3.10/dist-packages (from Transformers) (2.27.1)\n",
            "Collecting tokenizers!=0.11.3,<0.14,>=0.11.1 (from Transformers)\n",
            "  Downloading tokenizers-0.13.3-cp310-cp310-manylinux_2_17_x86_64.manylinux2014_x86_64.whl (7.8 MB)\n",
            "\u001b[2K     \u001b[90m━━━━━━━━━━━━━━━━━━━━━━━━━━━━━━━━━━━━━━━━\u001b[0m \u001b[32m7.8/7.8 MB\u001b[0m \u001b[31m115.8 MB/s\u001b[0m eta \u001b[36m0:00:00\u001b[0m\n",
            "\u001b[?25hCollecting safetensors>=0.3.1 (from Transformers)\n",
            "  Downloading safetensors-0.3.1-cp310-cp310-manylinux_2_17_x86_64.manylinux2014_x86_64.whl (1.3 MB)\n",
            "\u001b[2K     \u001b[90m━━━━━━━━━━━━━━━━━━━━━━━━━━━━━━━━━━━━━━━━\u001b[0m \u001b[32m1.3/1.3 MB\u001b[0m \u001b[31m68.8 MB/s\u001b[0m eta \u001b[36m0:00:00\u001b[0m\n",
            "\u001b[?25hRequirement already satisfied: tqdm>=4.27 in /usr/local/lib/python3.10/dist-packages (from Transformers) (4.65.0)\n",
            "Requirement already satisfied: fsspec in /usr/local/lib/python3.10/dist-packages (from huggingface-hub<1.0,>=0.14.1->Transformers) (2023.6.0)\n",
            "Requirement already satisfied: typing-extensions>=3.7.4.3 in /usr/local/lib/python3.10/dist-packages (from huggingface-hub<1.0,>=0.14.1->Transformers) (4.6.3)\n",
            "Requirement already satisfied: urllib3<1.27,>=1.21.1 in /usr/local/lib/python3.10/dist-packages (from requests->Transformers) (1.26.16)\n",
            "Requirement already satisfied: certifi>=2017.4.17 in /usr/local/lib/python3.10/dist-packages (from requests->Transformers) (2023.5.7)\n",
            "Requirement already satisfied: charset-normalizer~=2.0.0 in /usr/local/lib/python3.10/dist-packages (from requests->Transformers) (2.0.12)\n",
            "Requirement already satisfied: idna<4,>=2.5 in /usr/local/lib/python3.10/dist-packages (from requests->Transformers) (3.4)\n",
            "Installing collected packages: tokenizers, safetensors, huggingface-hub, Transformers\n",
            "Successfully installed Transformers-4.30.2 huggingface-hub-0.16.4 safetensors-0.3.1 tokenizers-0.13.3\n"
          ]
        }
      ]
    },
    {
      "cell_type": "code",
      "source": [
        "import torch\n",
        "from transformers import AutoTokenizer, AutoModelForTokenClassification, BertTokenizer\n"
      ],
      "metadata": {
        "id": "uHj040UnnKK0"
      },
      "execution_count": 2,
      "outputs": []
    },
    {
      "cell_type": "code",
      "source": [
        "import pandas as pd\n",
        "\n",
        "# Read the text file\n",
        "with open('/content/questions.txt', 'r') as file:\n",
        "    lines = file.readlines()\n",
        "\n",
        "# Prepare the data for classification\n",
        "questions = []\n",
        "labels = []\n",
        "current_label = 0\n",
        "\n",
        "for line in lines:\n",
        "    line = line.strip()\n",
        "    if line == '---':\n",
        "        current_label += 1\n",
        "    else:\n",
        "        questions.append(line)\n",
        "        labels.append(current_label)\n",
        "\n",
        "# Create a dataframe for classification\n",
        "data = pd.DataFrame({'Question': questions, 'Label': labels})\n"
      ],
      "metadata": {
        "id": "V9e2__c6e8Yk"
      },
      "execution_count": 18,
      "outputs": []
    },
    {
      "cell_type": "code",
      "source": [
        "import pandas as pd\n",
        "\n",
        "# Read the text file\n",
        "with open('/content/test2.txt', 'r') as file:\n",
        "    lines = file.readlines()\n",
        "\n",
        "# Prepare the data for classification\n",
        "test_questions = []\n",
        "test_labels = []\n",
        "current_label = 0\n",
        "\n",
        "for line in lines:\n",
        "    line = line.strip()\n",
        "    if line == '---':\n",
        "        current_label += 1\n",
        "    else:\n",
        "        test_questions.append(line)\n",
        "        test_labels.append(current_label)\n",
        "\n",
        "# Create a dataframe for classification\n",
        "test_data = pd.DataFrame({'Question': test_questions, 'Label': test_labels})"
      ],
      "metadata": {
        "id": "1wZJgjpd3XMX"
      },
      "execution_count": 67,
      "outputs": []
    },
    {
      "cell_type": "markdown",
      "source": [],
      "metadata": {
        "id": "QrF6V4GchRwl"
      }
    },
    {
      "cell_type": "code",
      "source": [
        "import torch"
      ],
      "metadata": {
        "id": "H2Gd5YOAUkCc"
      },
      "execution_count": 4,
      "outputs": []
    },
    {
      "cell_type": "code",
      "source": [
        "device = torch.device('cuda' if torch.cuda.is_available() else 'cpu')"
      ],
      "metadata": {
        "id": "ZimHtZTNSeU7"
      },
      "execution_count": 14,
      "outputs": []
    },
    {
      "cell_type": "code",
      "source": [
        "import torch\n",
        "from torch.utils.data import DataLoader\n",
        "from torch.utils.data import TensorDataset\n",
        "train_texts = list(data['Question'].astype(str))  # Convert to list of strings\n",
        "\n",
        "tokenizer = BertTokenizer.from_pretrained('bert-base-uncased', do_lower_case=True)\n",
        "\n",
        "train_encodings = tokenizer(train_texts, truncation=True, max_length=20, pad_to_max_length = True, add_special_tokens = True, return_attention_mask = True)\n",
        "\n",
        "train_dataset = torch.utils.data.TensorDataset(torch.tensor(train_encodings['input_ids']).to(device),\n",
        "                                               torch.tensor(train_encodings['attention_mask']).to(device),\n",
        "                                               torch.tensor(data[\"Label\"].values).to(device))"
      ],
      "metadata": {
        "id": "OayIkHvKdoQ3",
        "colab": {
          "base_uri": "https://localhost:8080/"
        },
        "outputId": "bb1642a9-c844-4686-d389-57fbbcdfc3a1"
      },
      "execution_count": 255,
      "outputs": [
        {
          "output_type": "stream",
          "name": "stderr",
          "text": [
            "/usr/local/lib/python3.10/dist-packages/transformers/tokenization_utils_base.py:2377: FutureWarning: The `pad_to_max_length` argument is deprecated and will be removed in a future version, use `padding=True` or `padding='longest'` to pad to the longest sequence in the batch, or use `padding='max_length'` to pad to a max length. In this case, you can give a specific length with `max_length` (e.g. `max_length=45`) or leave max_length to None to pad to the maximal input size of the model (e.g. 512 for Bert).\n",
            "  warnings.warn(\n"
          ]
        }
      ]
    },
    {
      "cell_type": "code",
      "source": [
        "\n",
        "test_texts = list(test_data['Question'].astype(str))  # Convert to list of strings\n",
        "\n",
        "tokenizer = BertTokenizer.from_pretrained('bert-base-uncased', do_lower_case=True)\n",
        "\n",
        "test_encodings = tokenizer(test_texts, truncation=True, max_length=40, pad_to_max_length = True, add_special_tokens = True, return_attention_mask = True)\n",
        "\n",
        "test_dataset = torch.utils.data.TensorDataset(torch.tensor(test_encodings['input_ids']).to(device),\n",
        "                                               torch.tensor(test_encodings['attention_mask']).to(device),\n",
        "                                               torch.tensor(test_data[\"Label\"].values).to(device))"
      ],
      "metadata": {
        "id": "b6Fkkp3K3pDL"
      },
      "execution_count": 153,
      "outputs": []
    },
    {
      "cell_type": "code",
      "source": [
        "from torch.utils.data.sampler import BatchSampler\n",
        "class BalancedBatchSampler(BatchSampler):\n",
        "    def __init__(self, dataset, n_classes, n_samples):\n",
        "        loader = DataLoader(dataset)\n",
        "        self.labels_list = []\n",
        "        for _, _, label in loader:\n",
        "            self.labels_list.append(label)\n",
        "        self.labels = torch.LongTensor(self.labels_list)\n",
        "        self.labels_set = list(set(self.labels.numpy()))\n",
        "        self.label_to_indices = {label: np.where(self.labels.numpy() == label)[0]\n",
        "                                 for label in self.labels_set}\n",
        "        for l in self.labels_set:\n",
        "            np.random.shuffle(self.label_to_indices[l])\n",
        "        self.used_label_indices_count = {label: 0 for label in self.labels_set}\n",
        "        self.count = 0\n",
        "        self.n_classes = n_classes\n",
        "        self.n_samples = n_samples\n",
        "        self.dataset = dataset\n",
        "        self.batch_size = self.n_samples * self.n_classes\n",
        "\n",
        "    def __iter__(self):\n",
        "        self.count = 0\n",
        "        while self.count + self.batch_size <= len(self.dataset):\n",
        "            classes = np.random.choice(self.labels_set, self.n_classes, replace=False)\n",
        "            indices = []\n",
        "            for class_ in classes:\n",
        "                indices.extend(self.label_to_indices[class_][\n",
        "                               self.used_label_indices_count[class_]:self.used_label_indices_count[\n",
        "                                                                         class_] + self.n_samples])\n",
        "                self.used_label_indices_count[class_] += self.n_samples\n",
        "                if self.used_label_indices_count[class_] + self.n_samples > len(self.label_to_indices[class_]):\n",
        "                    np.random.shuffle(self.label_to_indices[class_])\n",
        "                    self.used_label_indices_count[class_] = 0\n",
        "            yield indices\n",
        "            self.count += self.n_classes * self.n_samples\n",
        "\n",
        "    def __len__(self):\n",
        "        return len(self.dataset) // self.batch_size\n"
      ],
      "metadata": {
        "id": "gNMu7NNOOpGW"
      },
      "execution_count": 247,
      "outputs": []
    },
    {
      "cell_type": "code",
      "source": [],
      "metadata": {
        "id": "-OncrrcU-SZ-"
      },
      "execution_count": null,
      "outputs": []
    },
    {
      "cell_type": "code",
      "source": [
        "import numpy as np\n",
        "batch_sampler = BalancedBatchSampler(train_dataset, n_classes=20, n_samples=11)\n",
        "train_loader = torch.utils.data.DataLoader(train_dataset, batch_sampler=batch_sampler)\n",
        "test_loader = torch.utils.data.DataLoader(test_dataset)\n"
      ],
      "metadata": {
        "id": "7pKLW4Dkhoyp"
      },
      "execution_count": 256,
      "outputs": []
    },
    {
      "cell_type": "code",
      "source": [
        "from transformers import BertTokenizer, BertForSequenceClassification"
      ],
      "metadata": {
        "id": "0UZ_hpY0gJtR"
      },
      "execution_count": 249,
      "outputs": []
    },
    {
      "cell_type": "code",
      "source": [
        "#Training the model\n",
        "\n",
        "from transformers import BertForSequenceClassification, AdamW, BertConfig\n",
        "\n",
        "\n",
        "import torch.nn as nn\n",
        "from transformers import BertModel\n",
        "\n",
        "class MetricLearningModel(nn.Module):\n",
        "    def __init__(self, bert_model):\n",
        "        super(MetricLearningModel, self).__init__()\n",
        "        self.bert = bert_model\n",
        "        self.layer = nn.Linear(768, 256) # Add a 256-dimensional layer\n",
        "\n",
        "    def forward(self, input_ids, attention_mask):\n",
        "        outputs = self.bert(input_ids=input_ids, attention_mask=attention_mask)\n",
        "        pooled_output = outputs[1]\n",
        "        output = self.layer(pooled_output)\n",
        "        return output\n",
        "\n",
        "# Load pre-trained BERT model\n",
        "bert_model = BertModel.from_pretrained('bert-base-uncased')\n",
        "\n",
        "# Create instance of MetricLearningModel\n",
        "model = MetricLearningModel(bert_model)\n",
        "\n",
        "# Tell pytorch to run this model on the GPU.\n",
        "# if gpu_available == True:\n",
        "model.to(device)\n",
        "\n",
        "optimizer = AdamW(model.parameters(),\n",
        "                  lr = 2e-5,\n",
        "                  eps = 1e-8\n",
        "                )"
      ],
      "metadata": {
        "colab": {
          "base_uri": "https://localhost:8080/"
        },
        "id": "Ed4RkN5YgJoy",
        "outputId": "a2a68201-f09b-4f76-d347-49b47dfa2b30"
      },
      "execution_count": 254,
      "outputs": [
        {
          "output_type": "stream",
          "name": "stderr",
          "text": [
            "Some weights of the model checkpoint at bert-base-uncased were not used when initializing BertModel: ['cls.predictions.transform.LayerNorm.weight', 'cls.predictions.transform.dense.weight', 'cls.predictions.transform.dense.bias', 'cls.seq_relationship.bias', 'cls.seq_relationship.weight', 'cls.predictions.bias', 'cls.predictions.transform.LayerNorm.bias']\n",
            "- This IS expected if you are initializing BertModel from the checkpoint of a model trained on another task or with another architecture (e.g. initializing a BertForSequenceClassification model from a BertForPreTraining model).\n",
            "- This IS NOT expected if you are initializing BertModel from the checkpoint of a model that you expect to be exactly identical (initializing a BertForSequenceClassification model from a BertForSequenceClassification model).\n",
            "/usr/local/lib/python3.10/dist-packages/transformers/optimization.py:411: FutureWarning: This implementation of AdamW is deprecated and will be removed in a future version. Use the PyTorch implementation torch.optim.AdamW instead, or set `no_deprecation_warning=True` to disable this warning\n",
            "  warnings.warn(\n"
          ]
        }
      ]
    },
    {
      "cell_type": "code",
      "source": [
        "!pip install pytorch_metric_learning\n",
        "from pytorch_metric_learning import losses, miners\n",
        "from pytorch_metric_learning.distances import CosineSimilarity"
      ],
      "metadata": {
        "colab": {
          "base_uri": "https://localhost:8080/"
        },
        "id": "WLou5x2jmh9g",
        "outputId": "2b6b0efa-d0d3-4013-cb90-8431880a48fc"
      },
      "execution_count": 11,
      "outputs": [
        {
          "output_type": "stream",
          "name": "stdout",
          "text": [
            "Collecting pytorch_metric_learning\n",
            "  Downloading pytorch_metric_learning-2.2.0-py3-none-any.whl (113 kB)\n",
            "\u001b[?25l     \u001b[90m━━━━━━━━━━━━━━━━━━━━━━━━━━━━━━━━━━━━━━━━\u001b[0m \u001b[32m0.0/113.9 kB\u001b[0m \u001b[31m?\u001b[0m eta \u001b[36m-:--:--\u001b[0m\r\u001b[2K     \u001b[90m━━━━━━━━━━━━━━━━━━━━━━━━━━━━━━━━━━━━━━━\u001b[0m \u001b[32m113.9/113.9 kB\u001b[0m \u001b[31m5.4 MB/s\u001b[0m eta \u001b[36m0:00:00\u001b[0m\n",
            "\u001b[?25hRequirement already satisfied: numpy in /usr/local/lib/python3.10/dist-packages (from pytorch_metric_learning) (1.22.4)\n",
            "Requirement already satisfied: scikit-learn in /usr/local/lib/python3.10/dist-packages (from pytorch_metric_learning) (1.2.2)\n",
            "Requirement already satisfied: tqdm in /usr/local/lib/python3.10/dist-packages (from pytorch_metric_learning) (4.65.0)\n",
            "Requirement already satisfied: torch>=1.6.0 in /usr/local/lib/python3.10/dist-packages (from pytorch_metric_learning) (2.0.1+cu118)\n",
            "Requirement already satisfied: filelock in /usr/local/lib/python3.10/dist-packages (from torch>=1.6.0->pytorch_metric_learning) (3.12.2)\n",
            "Requirement already satisfied: typing-extensions in /usr/local/lib/python3.10/dist-packages (from torch>=1.6.0->pytorch_metric_learning) (4.6.3)\n",
            "Requirement already satisfied: sympy in /usr/local/lib/python3.10/dist-packages (from torch>=1.6.0->pytorch_metric_learning) (1.11.1)\n",
            "Requirement already satisfied: networkx in /usr/local/lib/python3.10/dist-packages (from torch>=1.6.0->pytorch_metric_learning) (3.1)\n",
            "Requirement already satisfied: jinja2 in /usr/local/lib/python3.10/dist-packages (from torch>=1.6.0->pytorch_metric_learning) (3.1.2)\n",
            "Requirement already satisfied: triton==2.0.0 in /usr/local/lib/python3.10/dist-packages (from torch>=1.6.0->pytorch_metric_learning) (2.0.0)\n",
            "Requirement already satisfied: cmake in /usr/local/lib/python3.10/dist-packages (from triton==2.0.0->torch>=1.6.0->pytorch_metric_learning) (3.25.2)\n",
            "Requirement already satisfied: lit in /usr/local/lib/python3.10/dist-packages (from triton==2.0.0->torch>=1.6.0->pytorch_metric_learning) (16.0.6)\n",
            "Requirement already satisfied: scipy>=1.3.2 in /usr/local/lib/python3.10/dist-packages (from scikit-learn->pytorch_metric_learning) (1.10.1)\n",
            "Requirement already satisfied: joblib>=1.1.1 in /usr/local/lib/python3.10/dist-packages (from scikit-learn->pytorch_metric_learning) (1.2.0)\n",
            "Requirement already satisfied: threadpoolctl>=2.0.0 in /usr/local/lib/python3.10/dist-packages (from scikit-learn->pytorch_metric_learning) (3.1.0)\n",
            "Requirement already satisfied: MarkupSafe>=2.0 in /usr/local/lib/python3.10/dist-packages (from jinja2->torch>=1.6.0->pytorch_metric_learning) (2.1.3)\n",
            "Requirement already satisfied: mpmath>=0.19 in /usr/local/lib/python3.10/dist-packages (from sympy->torch>=1.6.0->pytorch_metric_learning) (1.3.0)\n",
            "Installing collected packages: pytorch_metric_learning\n",
            "Successfully installed pytorch_metric_learning-2.2.0\n"
          ]
        }
      ]
    },
    {
      "cell_type": "code",
      "source": [
        "from tqdm import tqdm\n",
        "\n",
        "# Define the loss function\n",
        "loss_fn = losses.AngularLoss()\n",
        "\n",
        "# Number of training epochs (authors recommend between 2 and 4)\n",
        "epochs = 100\n",
        "\n",
        "# Loop over the entire dataset multiple times\n",
        "for epoch in range(epochs):\n",
        "\n",
        "    # Training\n",
        "    total_loss = 0.0\n",
        "    model.train() # Set the model to training mode\n",
        "\n",
        "    for batch in tqdm(train_loader, desc=\"Training\"):\n",
        "        # Load batch to GPU\n",
        "        batch = tuple(t.to(device) for t in batch)\n",
        "\n",
        "        # Unpack the inputs from the dataloader\n",
        "        b_input_ids, b_input_mask, b_labels = batch\n",
        "\n",
        "        # Clear previously calculated gradients\n",
        "        optimizer.zero_grad()\n",
        "\n",
        "        # Forward pass to get model outputs\n",
        "        embeddings = torch.nn.functional.normalize(model(b_input_ids, attention_mask=b_input_mask),dim=-1)\n",
        "        #indices_tuple = miner(embeddings, b_labels)\n",
        "        loss = loss_fn(embeddings, b_labels)\n",
        "        total_loss += loss.item()\n",
        "        optimizer.zero_grad()\n",
        "        loss.backward()\n",
        "        optimizer.step()\n",
        "\n",
        "    # Calculate the average loss over the training data\n",
        "\n",
        "    print('Epoch: {}, Loss: {}'.format(epoch+1, total_loss/len(train_loader)))\n",
        "\n"
      ],
      "metadata": {
        "colab": {
          "base_uri": "https://localhost:8080/"
        },
        "id": "HhlYxaWGmk-5",
        "outputId": "53832294-881c-4ad2-c064-df4a0ec38228"
      },
      "execution_count": 261,
      "outputs": [
        {
          "output_type": "stream",
          "name": "stderr",
          "text": [
            "Training: 100%|██████████| 1/1 [00:00<00:00,  1.35it/s]\n"
          ]
        },
        {
          "output_type": "stream",
          "name": "stdout",
          "text": [
            "Epoch: 1, Loss: 2.1748220920562744\n"
          ]
        },
        {
          "output_type": "stream",
          "name": "stderr",
          "text": [
            "Training: 100%|██████████| 1/1 [00:00<00:00,  1.53it/s]\n"
          ]
        },
        {
          "output_type": "stream",
          "name": "stdout",
          "text": [
            "Epoch: 2, Loss: 2.182180404663086\n"
          ]
        },
        {
          "output_type": "stream",
          "name": "stderr",
          "text": [
            "Training: 100%|██████████| 1/1 [00:00<00:00,  1.51it/s]\n"
          ]
        },
        {
          "output_type": "stream",
          "name": "stdout",
          "text": [
            "Epoch: 3, Loss: 2.1665918827056885\n"
          ]
        },
        {
          "output_type": "stream",
          "name": "stderr",
          "text": [
            "Training: 100%|██████████| 1/1 [00:00<00:00,  1.50it/s]\n"
          ]
        },
        {
          "output_type": "stream",
          "name": "stdout",
          "text": [
            "Epoch: 4, Loss: 2.1530380249023438\n"
          ]
        },
        {
          "output_type": "stream",
          "name": "stderr",
          "text": [
            "Training: 100%|██████████| 1/1 [00:00<00:00,  1.49it/s]\n"
          ]
        },
        {
          "output_type": "stream",
          "name": "stdout",
          "text": [
            "Epoch: 5, Loss: 2.1519715785980225\n"
          ]
        },
        {
          "output_type": "stream",
          "name": "stderr",
          "text": [
            "Training: 100%|██████████| 1/1 [00:00<00:00,  1.50it/s]\n"
          ]
        },
        {
          "output_type": "stream",
          "name": "stdout",
          "text": [
            "Epoch: 6, Loss: 2.151850938796997\n"
          ]
        },
        {
          "output_type": "stream",
          "name": "stderr",
          "text": [
            "Training: 100%|██████████| 1/1 [00:00<00:00,  1.51it/s]\n"
          ]
        },
        {
          "output_type": "stream",
          "name": "stdout",
          "text": [
            "Epoch: 7, Loss: 2.1435225009918213\n"
          ]
        },
        {
          "output_type": "stream",
          "name": "stderr",
          "text": [
            "Training: 100%|██████████| 1/1 [00:00<00:00,  1.51it/s]\n"
          ]
        },
        {
          "output_type": "stream",
          "name": "stdout",
          "text": [
            "Epoch: 8, Loss: 2.143693685531616\n"
          ]
        },
        {
          "output_type": "stream",
          "name": "stderr",
          "text": [
            "Training: 100%|██████████| 1/1 [00:00<00:00,  1.50it/s]\n"
          ]
        },
        {
          "output_type": "stream",
          "name": "stdout",
          "text": [
            "Epoch: 9, Loss: 2.135491132736206\n"
          ]
        },
        {
          "output_type": "stream",
          "name": "stderr",
          "text": [
            "Training: 100%|██████████| 1/1 [00:00<00:00,  1.49it/s]\n"
          ]
        },
        {
          "output_type": "stream",
          "name": "stdout",
          "text": [
            "Epoch: 10, Loss: 2.1332333087921143\n"
          ]
        },
        {
          "output_type": "stream",
          "name": "stderr",
          "text": [
            "Training: 100%|██████████| 1/1 [00:00<00:00,  1.51it/s]\n"
          ]
        },
        {
          "output_type": "stream",
          "name": "stdout",
          "text": [
            "Epoch: 11, Loss: 2.1178364753723145\n"
          ]
        },
        {
          "output_type": "stream",
          "name": "stderr",
          "text": [
            "Training: 100%|██████████| 1/1 [00:00<00:00,  1.49it/s]\n"
          ]
        },
        {
          "output_type": "stream",
          "name": "stdout",
          "text": [
            "Epoch: 12, Loss: 2.1119754314422607\n"
          ]
        },
        {
          "output_type": "stream",
          "name": "stderr",
          "text": [
            "Training: 100%|██████████| 1/1 [00:00<00:00,  1.48it/s]\n"
          ]
        },
        {
          "output_type": "stream",
          "name": "stdout",
          "text": [
            "Epoch: 13, Loss: 2.106123685836792\n"
          ]
        },
        {
          "output_type": "stream",
          "name": "stderr",
          "text": [
            "Training: 100%|██████████| 1/1 [00:00<00:00,  1.49it/s]\n"
          ]
        },
        {
          "output_type": "stream",
          "name": "stdout",
          "text": [
            "Epoch: 14, Loss: 2.1074764728546143\n"
          ]
        },
        {
          "output_type": "stream",
          "name": "stderr",
          "text": [
            "Training: 100%|██████████| 1/1 [00:00<00:00,  1.49it/s]\n"
          ]
        },
        {
          "output_type": "stream",
          "name": "stdout",
          "text": [
            "Epoch: 15, Loss: 2.1062119007110596\n"
          ]
        },
        {
          "output_type": "stream",
          "name": "stderr",
          "text": [
            "Training: 100%|██████████| 1/1 [00:00<00:00,  1.49it/s]\n"
          ]
        },
        {
          "output_type": "stream",
          "name": "stdout",
          "text": [
            "Epoch: 16, Loss: 2.1011500358581543\n"
          ]
        },
        {
          "output_type": "stream",
          "name": "stderr",
          "text": [
            "Training: 100%|██████████| 1/1 [00:00<00:00,  1.48it/s]\n"
          ]
        },
        {
          "output_type": "stream",
          "name": "stdout",
          "text": [
            "Epoch: 17, Loss: 2.0921573638916016\n"
          ]
        },
        {
          "output_type": "stream",
          "name": "stderr",
          "text": [
            "Training: 100%|██████████| 1/1 [00:00<00:00,  1.46it/s]\n"
          ]
        },
        {
          "output_type": "stream",
          "name": "stdout",
          "text": [
            "Epoch: 18, Loss: 2.096905469894409\n"
          ]
        },
        {
          "output_type": "stream",
          "name": "stderr",
          "text": [
            "Training: 100%|██████████| 1/1 [00:00<00:00,  1.47it/s]\n"
          ]
        },
        {
          "output_type": "stream",
          "name": "stdout",
          "text": [
            "Epoch: 19, Loss: 2.0870893001556396\n"
          ]
        },
        {
          "output_type": "stream",
          "name": "stderr",
          "text": [
            "Training: 100%|██████████| 1/1 [00:00<00:00,  1.48it/s]\n"
          ]
        },
        {
          "output_type": "stream",
          "name": "stdout",
          "text": [
            "Epoch: 20, Loss: 2.076835870742798\n"
          ]
        },
        {
          "output_type": "stream",
          "name": "stderr",
          "text": [
            "Training: 100%|██████████| 1/1 [00:00<00:00,  1.46it/s]\n"
          ]
        },
        {
          "output_type": "stream",
          "name": "stdout",
          "text": [
            "Epoch: 21, Loss: 2.07366943359375\n"
          ]
        },
        {
          "output_type": "stream",
          "name": "stderr",
          "text": [
            "Training: 100%|██████████| 1/1 [00:00<00:00,  1.46it/s]\n"
          ]
        },
        {
          "output_type": "stream",
          "name": "stdout",
          "text": [
            "Epoch: 22, Loss: 2.0758256912231445\n"
          ]
        },
        {
          "output_type": "stream",
          "name": "stderr",
          "text": [
            "Training: 100%|██████████| 1/1 [00:00<00:00,  1.46it/s]\n"
          ]
        },
        {
          "output_type": "stream",
          "name": "stdout",
          "text": [
            "Epoch: 23, Loss: 2.060096263885498\n"
          ]
        },
        {
          "output_type": "stream",
          "name": "stderr",
          "text": [
            "Training: 100%|██████████| 1/1 [00:00<00:00,  1.45it/s]\n"
          ]
        },
        {
          "output_type": "stream",
          "name": "stdout",
          "text": [
            "Epoch: 24, Loss: 2.061047315597534\n"
          ]
        },
        {
          "output_type": "stream",
          "name": "stderr",
          "text": [
            "Training: 100%|██████████| 1/1 [00:00<00:00,  1.45it/s]\n"
          ]
        },
        {
          "output_type": "stream",
          "name": "stdout",
          "text": [
            "Epoch: 25, Loss: 2.0577688217163086\n"
          ]
        },
        {
          "output_type": "stream",
          "name": "stderr",
          "text": [
            "Training: 100%|██████████| 1/1 [00:00<00:00,  1.48it/s]\n"
          ]
        },
        {
          "output_type": "stream",
          "name": "stdout",
          "text": [
            "Epoch: 26, Loss: 2.0475363731384277\n"
          ]
        },
        {
          "output_type": "stream",
          "name": "stderr",
          "text": [
            "Training: 100%|██████████| 1/1 [00:00<00:00,  1.44it/s]\n"
          ]
        },
        {
          "output_type": "stream",
          "name": "stdout",
          "text": [
            "Epoch: 27, Loss: 2.044135093688965\n"
          ]
        },
        {
          "output_type": "stream",
          "name": "stderr",
          "text": [
            "Training: 100%|██████████| 1/1 [00:00<00:00,  1.40it/s]\n"
          ]
        },
        {
          "output_type": "stream",
          "name": "stdout",
          "text": [
            "Epoch: 28, Loss: 2.0416224002838135\n"
          ]
        },
        {
          "output_type": "stream",
          "name": "stderr",
          "text": [
            "Training: 100%|██████████| 1/1 [00:00<00:00,  1.43it/s]\n"
          ]
        },
        {
          "output_type": "stream",
          "name": "stdout",
          "text": [
            "Epoch: 29, Loss: 2.0446081161499023\n"
          ]
        },
        {
          "output_type": "stream",
          "name": "stderr",
          "text": [
            "Training: 100%|██████████| 1/1 [00:00<00:00,  1.36it/s]\n"
          ]
        },
        {
          "output_type": "stream",
          "name": "stdout",
          "text": [
            "Epoch: 30, Loss: 2.035482168197632\n"
          ]
        },
        {
          "output_type": "stream",
          "name": "stderr",
          "text": [
            "Training: 100%|██████████| 1/1 [00:00<00:00,  1.42it/s]\n"
          ]
        },
        {
          "output_type": "stream",
          "name": "stdout",
          "text": [
            "Epoch: 31, Loss: 2.037210464477539\n"
          ]
        },
        {
          "output_type": "stream",
          "name": "stderr",
          "text": [
            "Training: 100%|██████████| 1/1 [00:00<00:00,  1.41it/s]\n"
          ]
        },
        {
          "output_type": "stream",
          "name": "stdout",
          "text": [
            "Epoch: 32, Loss: 2.034601926803589\n"
          ]
        },
        {
          "output_type": "stream",
          "name": "stderr",
          "text": [
            "Training: 100%|██████████| 1/1 [00:00<00:00,  1.45it/s]\n"
          ]
        },
        {
          "output_type": "stream",
          "name": "stdout",
          "text": [
            "Epoch: 33, Loss: 2.022892713546753\n"
          ]
        },
        {
          "output_type": "stream",
          "name": "stderr",
          "text": [
            "Training: 100%|██████████| 1/1 [00:00<00:00,  1.45it/s]\n"
          ]
        },
        {
          "output_type": "stream",
          "name": "stdout",
          "text": [
            "Epoch: 34, Loss: 2.0228888988494873\n"
          ]
        },
        {
          "output_type": "stream",
          "name": "stderr",
          "text": [
            "Training: 100%|██████████| 1/1 [00:00<00:00,  1.46it/s]\n"
          ]
        },
        {
          "output_type": "stream",
          "name": "stdout",
          "text": [
            "Epoch: 35, Loss: 2.0197527408599854\n"
          ]
        },
        {
          "output_type": "stream",
          "name": "stderr",
          "text": [
            "Training: 100%|██████████| 1/1 [00:00<00:00,  1.45it/s]\n"
          ]
        },
        {
          "output_type": "stream",
          "name": "stdout",
          "text": [
            "Epoch: 36, Loss: 2.0163044929504395\n"
          ]
        },
        {
          "output_type": "stream",
          "name": "stderr",
          "text": [
            "Training: 100%|██████████| 1/1 [00:00<00:00,  1.46it/s]\n"
          ]
        },
        {
          "output_type": "stream",
          "name": "stdout",
          "text": [
            "Epoch: 37, Loss: 2.0089874267578125\n"
          ]
        },
        {
          "output_type": "stream",
          "name": "stderr",
          "text": [
            "Training: 100%|██████████| 1/1 [00:00<00:00,  1.46it/s]\n"
          ]
        },
        {
          "output_type": "stream",
          "name": "stdout",
          "text": [
            "Epoch: 38, Loss: 2.0114519596099854\n"
          ]
        },
        {
          "output_type": "stream",
          "name": "stderr",
          "text": [
            "Training: 100%|██████████| 1/1 [00:00<00:00,  1.45it/s]\n"
          ]
        },
        {
          "output_type": "stream",
          "name": "stdout",
          "text": [
            "Epoch: 39, Loss: 2.0134103298187256\n"
          ]
        },
        {
          "output_type": "stream",
          "name": "stderr",
          "text": [
            "Training: 100%|██████████| 1/1 [00:00<00:00,  1.46it/s]\n"
          ]
        },
        {
          "output_type": "stream",
          "name": "stdout",
          "text": [
            "Epoch: 40, Loss: 2.0017001628875732\n"
          ]
        },
        {
          "output_type": "stream",
          "name": "stderr",
          "text": [
            "Training: 100%|██████████| 1/1 [00:00<00:00,  1.44it/s]\n"
          ]
        },
        {
          "output_type": "stream",
          "name": "stdout",
          "text": [
            "Epoch: 41, Loss: 2.002791166305542\n"
          ]
        },
        {
          "output_type": "stream",
          "name": "stderr",
          "text": [
            "Training: 100%|██████████| 1/1 [00:00<00:00,  1.44it/s]\n"
          ]
        },
        {
          "output_type": "stream",
          "name": "stdout",
          "text": [
            "Epoch: 42, Loss: 1.9985861778259277\n"
          ]
        },
        {
          "output_type": "stream",
          "name": "stderr",
          "text": [
            "Training: 100%|██████████| 1/1 [00:00<00:00,  1.44it/s]\n"
          ]
        },
        {
          "output_type": "stream",
          "name": "stdout",
          "text": [
            "Epoch: 43, Loss: 1.9945403337478638\n"
          ]
        },
        {
          "output_type": "stream",
          "name": "stderr",
          "text": [
            "Training: 100%|██████████| 1/1 [00:00<00:00,  1.45it/s]\n"
          ]
        },
        {
          "output_type": "stream",
          "name": "stdout",
          "text": [
            "Epoch: 44, Loss: 1.991611123085022\n"
          ]
        },
        {
          "output_type": "stream",
          "name": "stderr",
          "text": [
            "Training: 100%|██████████| 1/1 [00:00<00:00,  1.46it/s]\n"
          ]
        },
        {
          "output_type": "stream",
          "name": "stdout",
          "text": [
            "Epoch: 45, Loss: 1.9919729232788086\n"
          ]
        },
        {
          "output_type": "stream",
          "name": "stderr",
          "text": [
            "Training: 100%|██████████| 1/1 [00:00<00:00,  1.47it/s]\n"
          ]
        },
        {
          "output_type": "stream",
          "name": "stdout",
          "text": [
            "Epoch: 46, Loss: 1.984835147857666\n"
          ]
        },
        {
          "output_type": "stream",
          "name": "stderr",
          "text": [
            "Training: 100%|██████████| 1/1 [00:00<00:00,  1.46it/s]\n"
          ]
        },
        {
          "output_type": "stream",
          "name": "stdout",
          "text": [
            "Epoch: 47, Loss: 1.9870983362197876\n"
          ]
        },
        {
          "output_type": "stream",
          "name": "stderr",
          "text": [
            "Training: 100%|██████████| 1/1 [00:00<00:00,  1.49it/s]\n"
          ]
        },
        {
          "output_type": "stream",
          "name": "stdout",
          "text": [
            "Epoch: 48, Loss: 1.9834973812103271\n"
          ]
        },
        {
          "output_type": "stream",
          "name": "stderr",
          "text": [
            "Training: 100%|██████████| 1/1 [00:00<00:00,  1.47it/s]\n"
          ]
        },
        {
          "output_type": "stream",
          "name": "stdout",
          "text": [
            "Epoch: 49, Loss: 1.9756238460540771\n"
          ]
        },
        {
          "output_type": "stream",
          "name": "stderr",
          "text": [
            "Training: 100%|██████████| 1/1 [00:00<00:00,  1.49it/s]\n"
          ]
        },
        {
          "output_type": "stream",
          "name": "stdout",
          "text": [
            "Epoch: 50, Loss: 1.9702266454696655\n"
          ]
        },
        {
          "output_type": "stream",
          "name": "stderr",
          "text": [
            "Training: 100%|██████████| 1/1 [00:00<00:00,  1.48it/s]\n"
          ]
        },
        {
          "output_type": "stream",
          "name": "stdout",
          "text": [
            "Epoch: 51, Loss: 1.9798117876052856\n"
          ]
        },
        {
          "output_type": "stream",
          "name": "stderr",
          "text": [
            "Training: 100%|██████████| 1/1 [00:00<00:00,  1.47it/s]\n"
          ]
        },
        {
          "output_type": "stream",
          "name": "stdout",
          "text": [
            "Epoch: 52, Loss: 1.9733092784881592\n"
          ]
        },
        {
          "output_type": "stream",
          "name": "stderr",
          "text": [
            "Training: 100%|██████████| 1/1 [00:00<00:00,  1.42it/s]\n"
          ]
        },
        {
          "output_type": "stream",
          "name": "stdout",
          "text": [
            "Epoch: 53, Loss: 1.976265788078308\n"
          ]
        },
        {
          "output_type": "stream",
          "name": "stderr",
          "text": [
            "Training: 100%|██████████| 1/1 [00:00<00:00,  1.40it/s]\n"
          ]
        },
        {
          "output_type": "stream",
          "name": "stdout",
          "text": [
            "Epoch: 54, Loss: 1.9679752588272095\n"
          ]
        },
        {
          "output_type": "stream",
          "name": "stderr",
          "text": [
            "Training: 100%|██████████| 1/1 [00:00<00:00,  1.44it/s]\n"
          ]
        },
        {
          "output_type": "stream",
          "name": "stdout",
          "text": [
            "Epoch: 55, Loss: 1.96329927444458\n"
          ]
        },
        {
          "output_type": "stream",
          "name": "stderr",
          "text": [
            "Training: 100%|██████████| 1/1 [00:00<00:00,  1.46it/s]\n"
          ]
        },
        {
          "output_type": "stream",
          "name": "stdout",
          "text": [
            "Epoch: 56, Loss: 1.961181402206421\n"
          ]
        },
        {
          "output_type": "stream",
          "name": "stderr",
          "text": [
            "Training: 100%|██████████| 1/1 [00:00<00:00,  1.46it/s]\n"
          ]
        },
        {
          "output_type": "stream",
          "name": "stdout",
          "text": [
            "Epoch: 57, Loss: 1.9595481157302856\n"
          ]
        },
        {
          "output_type": "stream",
          "name": "stderr",
          "text": [
            "Training: 100%|██████████| 1/1 [00:00<00:00,  1.47it/s]\n"
          ]
        },
        {
          "output_type": "stream",
          "name": "stdout",
          "text": [
            "Epoch: 58, Loss: 1.9631165266036987\n"
          ]
        },
        {
          "output_type": "stream",
          "name": "stderr",
          "text": [
            "Training: 100%|██████████| 1/1 [00:00<00:00,  1.47it/s]\n"
          ]
        },
        {
          "output_type": "stream",
          "name": "stdout",
          "text": [
            "Epoch: 59, Loss: 1.9558931589126587\n"
          ]
        },
        {
          "output_type": "stream",
          "name": "stderr",
          "text": [
            "Training: 100%|██████████| 1/1 [00:00<00:00,  1.45it/s]\n"
          ]
        },
        {
          "output_type": "stream",
          "name": "stdout",
          "text": [
            "Epoch: 60, Loss: 1.9492864608764648\n"
          ]
        },
        {
          "output_type": "stream",
          "name": "stderr",
          "text": [
            "Training: 100%|██████████| 1/1 [00:00<00:00,  1.37it/s]\n"
          ]
        },
        {
          "output_type": "stream",
          "name": "stdout",
          "text": [
            "Epoch: 61, Loss: 1.954565167427063\n"
          ]
        },
        {
          "output_type": "stream",
          "name": "stderr",
          "text": [
            "Training: 100%|██████████| 1/1 [00:00<00:00,  1.47it/s]\n"
          ]
        },
        {
          "output_type": "stream",
          "name": "stdout",
          "text": [
            "Epoch: 62, Loss: 1.9479091167449951\n"
          ]
        },
        {
          "output_type": "stream",
          "name": "stderr",
          "text": [
            "Training: 100%|██████████| 1/1 [00:00<00:00,  1.40it/s]\n"
          ]
        },
        {
          "output_type": "stream",
          "name": "stdout",
          "text": [
            "Epoch: 63, Loss: 1.951546549797058\n"
          ]
        },
        {
          "output_type": "stream",
          "name": "stderr",
          "text": [
            "Training: 100%|██████████| 1/1 [00:00<00:00,  1.46it/s]\n"
          ]
        },
        {
          "output_type": "stream",
          "name": "stdout",
          "text": [
            "Epoch: 64, Loss: 1.949209451675415\n"
          ]
        },
        {
          "output_type": "stream",
          "name": "stderr",
          "text": [
            "Training: 100%|██████████| 1/1 [00:00<00:00,  1.42it/s]\n"
          ]
        },
        {
          "output_type": "stream",
          "name": "stdout",
          "text": [
            "Epoch: 65, Loss: 1.95219886302948\n"
          ]
        },
        {
          "output_type": "stream",
          "name": "stderr",
          "text": [
            "Training: 100%|██████████| 1/1 [00:00<00:00,  1.50it/s]\n"
          ]
        },
        {
          "output_type": "stream",
          "name": "stdout",
          "text": [
            "Epoch: 66, Loss: 1.9411487579345703\n"
          ]
        },
        {
          "output_type": "stream",
          "name": "stderr",
          "text": [
            "Training: 100%|██████████| 1/1 [00:00<00:00,  1.50it/s]\n"
          ]
        },
        {
          "output_type": "stream",
          "name": "stdout",
          "text": [
            "Epoch: 67, Loss: 1.9454554319381714\n"
          ]
        },
        {
          "output_type": "stream",
          "name": "stderr",
          "text": [
            "Training: 100%|██████████| 1/1 [00:00<00:00,  1.50it/s]\n"
          ]
        },
        {
          "output_type": "stream",
          "name": "stdout",
          "text": [
            "Epoch: 68, Loss: 1.9462779760360718\n"
          ]
        },
        {
          "output_type": "stream",
          "name": "stderr",
          "text": [
            "Training: 100%|██████████| 1/1 [00:00<00:00,  1.52it/s]\n"
          ]
        },
        {
          "output_type": "stream",
          "name": "stdout",
          "text": [
            "Epoch: 69, Loss: 1.9404505491256714\n"
          ]
        },
        {
          "output_type": "stream",
          "name": "stderr",
          "text": [
            "Training: 100%|██████████| 1/1 [00:00<00:00,  1.50it/s]\n"
          ]
        },
        {
          "output_type": "stream",
          "name": "stdout",
          "text": [
            "Epoch: 70, Loss: 1.9377224445343018\n"
          ]
        },
        {
          "output_type": "stream",
          "name": "stderr",
          "text": [
            "Training: 100%|██████████| 1/1 [00:00<00:00,  1.51it/s]\n"
          ]
        },
        {
          "output_type": "stream",
          "name": "stdout",
          "text": [
            "Epoch: 71, Loss: 1.935834527015686\n"
          ]
        },
        {
          "output_type": "stream",
          "name": "stderr",
          "text": [
            "Training: 100%|██████████| 1/1 [00:00<00:00,  1.50it/s]\n"
          ]
        },
        {
          "output_type": "stream",
          "name": "stdout",
          "text": [
            "Epoch: 72, Loss: 1.9349913597106934\n"
          ]
        },
        {
          "output_type": "stream",
          "name": "stderr",
          "text": [
            "Training: 100%|██████████| 1/1 [00:00<00:00,  1.51it/s]\n"
          ]
        },
        {
          "output_type": "stream",
          "name": "stdout",
          "text": [
            "Epoch: 73, Loss: 1.940091848373413\n"
          ]
        },
        {
          "output_type": "stream",
          "name": "stderr",
          "text": [
            "Training: 100%|██████████| 1/1 [00:00<00:00,  1.49it/s]\n"
          ]
        },
        {
          "output_type": "stream",
          "name": "stdout",
          "text": [
            "Epoch: 74, Loss: 1.9326465129852295\n"
          ]
        },
        {
          "output_type": "stream",
          "name": "stderr",
          "text": [
            "Training: 100%|██████████| 1/1 [00:00<00:00,  1.51it/s]\n"
          ]
        },
        {
          "output_type": "stream",
          "name": "stdout",
          "text": [
            "Epoch: 75, Loss: 1.9350732564926147\n"
          ]
        },
        {
          "output_type": "stream",
          "name": "stderr",
          "text": [
            "Training: 100%|██████████| 1/1 [00:00<00:00,  1.52it/s]\n"
          ]
        },
        {
          "output_type": "stream",
          "name": "stdout",
          "text": [
            "Epoch: 76, Loss: 1.9305349588394165\n"
          ]
        },
        {
          "output_type": "stream",
          "name": "stderr",
          "text": [
            "Training: 100%|██████████| 1/1 [00:00<00:00,  1.49it/s]\n"
          ]
        },
        {
          "output_type": "stream",
          "name": "stdout",
          "text": [
            "Epoch: 77, Loss: 1.9265822172164917\n"
          ]
        },
        {
          "output_type": "stream",
          "name": "stderr",
          "text": [
            "Training: 100%|██████████| 1/1 [00:00<00:00,  1.50it/s]\n"
          ]
        },
        {
          "output_type": "stream",
          "name": "stdout",
          "text": [
            "Epoch: 78, Loss: 1.926419973373413\n"
          ]
        },
        {
          "output_type": "stream",
          "name": "stderr",
          "text": [
            "Training: 100%|██████████| 1/1 [00:00<00:00,  1.51it/s]\n"
          ]
        },
        {
          "output_type": "stream",
          "name": "stdout",
          "text": [
            "Epoch: 79, Loss: 1.9229241609573364\n"
          ]
        },
        {
          "output_type": "stream",
          "name": "stderr",
          "text": [
            "Training: 100%|██████████| 1/1 [00:00<00:00,  1.51it/s]\n"
          ]
        },
        {
          "output_type": "stream",
          "name": "stdout",
          "text": [
            "Epoch: 80, Loss: 1.9231114387512207\n"
          ]
        },
        {
          "output_type": "stream",
          "name": "stderr",
          "text": [
            "Training: 100%|██████████| 1/1 [00:00<00:00,  1.51it/s]\n"
          ]
        },
        {
          "output_type": "stream",
          "name": "stdout",
          "text": [
            "Epoch: 81, Loss: 1.9229187965393066\n"
          ]
        },
        {
          "output_type": "stream",
          "name": "stderr",
          "text": [
            "Training: 100%|██████████| 1/1 [00:00<00:00,  1.49it/s]\n"
          ]
        },
        {
          "output_type": "stream",
          "name": "stdout",
          "text": [
            "Epoch: 82, Loss: 1.9213379621505737\n"
          ]
        },
        {
          "output_type": "stream",
          "name": "stderr",
          "text": [
            "Training: 100%|██████████| 1/1 [00:00<00:00,  1.51it/s]\n"
          ]
        },
        {
          "output_type": "stream",
          "name": "stdout",
          "text": [
            "Epoch: 83, Loss: 1.9171744585037231\n"
          ]
        },
        {
          "output_type": "stream",
          "name": "stderr",
          "text": [
            "Training: 100%|██████████| 1/1 [00:00<00:00,  1.48it/s]\n"
          ]
        },
        {
          "output_type": "stream",
          "name": "stdout",
          "text": [
            "Epoch: 84, Loss: 1.9191412925720215\n"
          ]
        },
        {
          "output_type": "stream",
          "name": "stderr",
          "text": [
            "Training: 100%|██████████| 1/1 [00:00<00:00,  1.51it/s]\n"
          ]
        },
        {
          "output_type": "stream",
          "name": "stdout",
          "text": [
            "Epoch: 85, Loss: 1.9222456216812134\n"
          ]
        },
        {
          "output_type": "stream",
          "name": "stderr",
          "text": [
            "Training: 100%|██████████| 1/1 [00:00<00:00,  1.51it/s]\n"
          ]
        },
        {
          "output_type": "stream",
          "name": "stdout",
          "text": [
            "Epoch: 86, Loss: 1.9154289960861206\n"
          ]
        },
        {
          "output_type": "stream",
          "name": "stderr",
          "text": [
            "Training: 100%|██████████| 1/1 [00:00<00:00,  1.52it/s]\n"
          ]
        },
        {
          "output_type": "stream",
          "name": "stdout",
          "text": [
            "Epoch: 87, Loss: 1.9164825677871704\n"
          ]
        },
        {
          "output_type": "stream",
          "name": "stderr",
          "text": [
            "Training: 100%|██████████| 1/1 [00:00<00:00,  1.52it/s]\n"
          ]
        },
        {
          "output_type": "stream",
          "name": "stdout",
          "text": [
            "Epoch: 88, Loss: 1.9158270359039307\n"
          ]
        },
        {
          "output_type": "stream",
          "name": "stderr",
          "text": [
            "Training: 100%|██████████| 1/1 [00:00<00:00,  1.51it/s]\n"
          ]
        },
        {
          "output_type": "stream",
          "name": "stdout",
          "text": [
            "Epoch: 89, Loss: 1.916344165802002\n"
          ]
        },
        {
          "output_type": "stream",
          "name": "stderr",
          "text": [
            "Training: 100%|██████████| 1/1 [00:00<00:00,  1.52it/s]\n"
          ]
        },
        {
          "output_type": "stream",
          "name": "stdout",
          "text": [
            "Epoch: 90, Loss: 1.9118953943252563\n"
          ]
        },
        {
          "output_type": "stream",
          "name": "stderr",
          "text": [
            "Training: 100%|██████████| 1/1 [00:00<00:00,  1.52it/s]\n"
          ]
        },
        {
          "output_type": "stream",
          "name": "stdout",
          "text": [
            "Epoch: 91, Loss: 1.9111108779907227\n"
          ]
        },
        {
          "output_type": "stream",
          "name": "stderr",
          "text": [
            "Training: 100%|██████████| 1/1 [00:00<00:00,  1.53it/s]\n"
          ]
        },
        {
          "output_type": "stream",
          "name": "stdout",
          "text": [
            "Epoch: 92, Loss: 1.9149913787841797\n"
          ]
        },
        {
          "output_type": "stream",
          "name": "stderr",
          "text": [
            "Training: 100%|██████████| 1/1 [00:00<00:00,  1.53it/s]\n"
          ]
        },
        {
          "output_type": "stream",
          "name": "stdout",
          "text": [
            "Epoch: 93, Loss: 1.908158779144287\n"
          ]
        },
        {
          "output_type": "stream",
          "name": "stderr",
          "text": [
            "Training: 100%|██████████| 1/1 [00:00<00:00,  1.53it/s]\n"
          ]
        },
        {
          "output_type": "stream",
          "name": "stdout",
          "text": [
            "Epoch: 94, Loss: 1.9110609292984009\n"
          ]
        },
        {
          "output_type": "stream",
          "name": "stderr",
          "text": [
            "Training: 100%|██████████| 1/1 [00:00<00:00,  1.52it/s]\n"
          ]
        },
        {
          "output_type": "stream",
          "name": "stdout",
          "text": [
            "Epoch: 95, Loss: 1.9041526317596436\n"
          ]
        },
        {
          "output_type": "stream",
          "name": "stderr",
          "text": [
            "Training: 100%|██████████| 1/1 [00:00<00:00,  1.52it/s]\n"
          ]
        },
        {
          "output_type": "stream",
          "name": "stdout",
          "text": [
            "Epoch: 96, Loss: 1.9121711254119873\n"
          ]
        },
        {
          "output_type": "stream",
          "name": "stderr",
          "text": [
            "Training: 100%|██████████| 1/1 [00:00<00:00,  1.52it/s]\n"
          ]
        },
        {
          "output_type": "stream",
          "name": "stdout",
          "text": [
            "Epoch: 97, Loss: 1.9051109552383423\n"
          ]
        },
        {
          "output_type": "stream",
          "name": "stderr",
          "text": [
            "Training: 100%|██████████| 1/1 [00:00<00:00,  1.52it/s]\n"
          ]
        },
        {
          "output_type": "stream",
          "name": "stdout",
          "text": [
            "Epoch: 98, Loss: 1.9021400213241577\n"
          ]
        },
        {
          "output_type": "stream",
          "name": "stderr",
          "text": [
            "Training: 100%|██████████| 1/1 [00:00<00:00,  1.52it/s]\n"
          ]
        },
        {
          "output_type": "stream",
          "name": "stdout",
          "text": [
            "Epoch: 99, Loss: 1.899928092956543\n"
          ]
        },
        {
          "output_type": "stream",
          "name": "stderr",
          "text": [
            "Training: 100%|██████████| 1/1 [00:00<00:00,  1.53it/s]"
          ]
        },
        {
          "output_type": "stream",
          "name": "stdout",
          "text": [
            "Epoch: 100, Loss: 1.9039775133132935\n"
          ]
        },
        {
          "output_type": "stream",
          "name": "stderr",
          "text": [
            "\n"
          ]
        }
      ]
    },
    {
      "cell_type": "code",
      "source": [
        "train_embeddings = []\n",
        "train_labels = []\n",
        "model.eval()\n",
        "with torch.no_grad():\n",
        "    for batch in tqdm(train_loader, desc=\"Training\"):\n",
        "        # Load batch to GPU\n",
        "        batch = tuple(t.to(device) for t in batch)\n",
        "\n",
        "        # Unpack the inputs from the dataloader\n",
        "        b_input_ids, b_input_mask, b_labels = batch\n",
        "\n",
        "        # Forward pass to get model outputs\n",
        "        embeddings = torch.nn.functional.normalize(model(b_input_ids, attention_mask=b_input_mask), dim=-1)\n",
        "\n",
        "        # Save embeddings and labels\n",
        "        train_embeddings.append(embeddings.cpu().detach().numpy())\n",
        "        train_labels.append(b_labels.cpu().detach().numpy())\n",
        "\n",
        "# Concatenate embeddings and labels\n",
        "train_embeddings = np.concatenate(train_embeddings, axis=0)\n",
        "train_labels = np.concatenate(train_labels, axis=0)"
      ],
      "metadata": {
        "colab": {
          "base_uri": "https://localhost:8080/"
        },
        "id": "ZU9ahGmdgJgr",
        "outputId": "81d05009-c769-42b6-ed87-bb55090f8551"
      },
      "execution_count": 262,
      "outputs": [
        {
          "output_type": "stream",
          "name": "stderr",
          "text": [
            "Training: 100%|██████████| 1/1 [00:00<00:00,  3.23it/s]\n"
          ]
        }
      ]
    },
    {
      "cell_type": "code",
      "source": [
        "from sklearn.neighbors import KNeighborsClassifier\n",
        "\n",
        "knn = KNeighborsClassifier(n_neighbors=10)\n",
        "knn.fit(train_embeddings, train_labels)\n"
      ],
      "metadata": {
        "colab": {
          "base_uri": "https://localhost:8080/",
          "height": 75
        },
        "id": "frgUKTPtnTYB",
        "outputId": "ffe870cb-0f5b-4330-a79b-9eac65f5f08c"
      },
      "execution_count": 263,
      "outputs": [
        {
          "output_type": "execute_result",
          "data": {
            "text/plain": [
              "KNeighborsClassifier(n_neighbors=10)"
            ],
            "text/html": [
              "<style>#sk-container-id-7 {color: black;background-color: white;}#sk-container-id-7 pre{padding: 0;}#sk-container-id-7 div.sk-toggleable {background-color: white;}#sk-container-id-7 label.sk-toggleable__label {cursor: pointer;display: block;width: 100%;margin-bottom: 0;padding: 0.3em;box-sizing: border-box;text-align: center;}#sk-container-id-7 label.sk-toggleable__label-arrow:before {content: \"▸\";float: left;margin-right: 0.25em;color: #696969;}#sk-container-id-7 label.sk-toggleable__label-arrow:hover:before {color: black;}#sk-container-id-7 div.sk-estimator:hover label.sk-toggleable__label-arrow:before {color: black;}#sk-container-id-7 div.sk-toggleable__content {max-height: 0;max-width: 0;overflow: hidden;text-align: left;background-color: #f0f8ff;}#sk-container-id-7 div.sk-toggleable__content pre {margin: 0.2em;color: black;border-radius: 0.25em;background-color: #f0f8ff;}#sk-container-id-7 input.sk-toggleable__control:checked~div.sk-toggleable__content {max-height: 200px;max-width: 100%;overflow: auto;}#sk-container-id-7 input.sk-toggleable__control:checked~label.sk-toggleable__label-arrow:before {content: \"▾\";}#sk-container-id-7 div.sk-estimator input.sk-toggleable__control:checked~label.sk-toggleable__label {background-color: #d4ebff;}#sk-container-id-7 div.sk-label input.sk-toggleable__control:checked~label.sk-toggleable__label {background-color: #d4ebff;}#sk-container-id-7 input.sk-hidden--visually {border: 0;clip: rect(1px 1px 1px 1px);clip: rect(1px, 1px, 1px, 1px);height: 1px;margin: -1px;overflow: hidden;padding: 0;position: absolute;width: 1px;}#sk-container-id-7 div.sk-estimator {font-family: monospace;background-color: #f0f8ff;border: 1px dotted black;border-radius: 0.25em;box-sizing: border-box;margin-bottom: 0.5em;}#sk-container-id-7 div.sk-estimator:hover {background-color: #d4ebff;}#sk-container-id-7 div.sk-parallel-item::after {content: \"\";width: 100%;border-bottom: 1px solid gray;flex-grow: 1;}#sk-container-id-7 div.sk-label:hover label.sk-toggleable__label {background-color: #d4ebff;}#sk-container-id-7 div.sk-serial::before {content: \"\";position: absolute;border-left: 1px solid gray;box-sizing: border-box;top: 0;bottom: 0;left: 50%;z-index: 0;}#sk-container-id-7 div.sk-serial {display: flex;flex-direction: column;align-items: center;background-color: white;padding-right: 0.2em;padding-left: 0.2em;position: relative;}#sk-container-id-7 div.sk-item {position: relative;z-index: 1;}#sk-container-id-7 div.sk-parallel {display: flex;align-items: stretch;justify-content: center;background-color: white;position: relative;}#sk-container-id-7 div.sk-item::before, #sk-container-id-7 div.sk-parallel-item::before {content: \"\";position: absolute;border-left: 1px solid gray;box-sizing: border-box;top: 0;bottom: 0;left: 50%;z-index: -1;}#sk-container-id-7 div.sk-parallel-item {display: flex;flex-direction: column;z-index: 1;position: relative;background-color: white;}#sk-container-id-7 div.sk-parallel-item:first-child::after {align-self: flex-end;width: 50%;}#sk-container-id-7 div.sk-parallel-item:last-child::after {align-self: flex-start;width: 50%;}#sk-container-id-7 div.sk-parallel-item:only-child::after {width: 0;}#sk-container-id-7 div.sk-dashed-wrapped {border: 1px dashed gray;margin: 0 0.4em 0.5em 0.4em;box-sizing: border-box;padding-bottom: 0.4em;background-color: white;}#sk-container-id-7 div.sk-label label {font-family: monospace;font-weight: bold;display: inline-block;line-height: 1.2em;}#sk-container-id-7 div.sk-label-container {text-align: center;}#sk-container-id-7 div.sk-container {/* jupyter's `normalize.less` sets `[hidden] { display: none; }` but bootstrap.min.css set `[hidden] { display: none !important; }` so we also need the `!important` here to be able to override the default hidden behavior on the sphinx rendered scikit-learn.org. See: https://github.com/scikit-learn/scikit-learn/issues/21755 */display: inline-block !important;position: relative;}#sk-container-id-7 div.sk-text-repr-fallback {display: none;}</style><div id=\"sk-container-id-7\" class=\"sk-top-container\"><div class=\"sk-text-repr-fallback\"><pre>KNeighborsClassifier(n_neighbors=10)</pre><b>In a Jupyter environment, please rerun this cell to show the HTML representation or trust the notebook. <br />On GitHub, the HTML representation is unable to render, please try loading this page with nbviewer.org.</b></div><div class=\"sk-container\" hidden><div class=\"sk-item\"><div class=\"sk-estimator sk-toggleable\"><input class=\"sk-toggleable__control sk-hidden--visually\" id=\"sk-estimator-id-7\" type=\"checkbox\" checked><label for=\"sk-estimator-id-7\" class=\"sk-toggleable__label sk-toggleable__label-arrow\">KNeighborsClassifier</label><div class=\"sk-toggleable__content\"><pre>KNeighborsClassifier(n_neighbors=10)</pre></div></div></div></div></div>"
            ]
          },
          "metadata": {},
          "execution_count": 263
        }
      ]
    },
    {
      "cell_type": "code",
      "source": [
        "# Set the model to evaluation mode\n",
        "model.eval()\n",
        "\n",
        "# Generate embeddings for the test set\n",
        "test_embeddings = []\n",
        "test_labels = []\n",
        "with torch.no_grad():\n",
        "    for batch in train_loader:\n",
        "        batch = tuple(t.to(device) for t in batch)\n",
        "        b_input_ids, b_input_mask, b_labels = batch\n",
        "        with torch.no_grad():\n",
        "            embeddings = torch.nn.functional.normalize(model(b_input_ids, attention_mask=b_input_mask), dim=-1)\n",
        "        test_embeddings.append(embeddings.cpu().numpy())\n",
        "        test_labels.append(b_labels.cpu().numpy())\n",
        "\n",
        "test_embeddings = np.concatenate(test_embeddings, axis=0)\n",
        "test_labels = np.concatenate(test_labels, axis=0)\n",
        "\n",
        "\n",
        "# Use kNN to predict labels for the test set embeddings\n",
        "test_pred_labels = knn.predict(test_embeddings)\n",
        "\n",
        "# Compute the accuracy of kNN predictions on the test set\n",
        "accuracy = np.sum(test_pred_labels == test_labels) / len(test_labels)\n",
        "print('kNN accuracy: {}'.format(accuracy))"
      ],
      "metadata": {
        "colab": {
          "base_uri": "https://localhost:8080/"
        },
        "id": "uXlT9sQFnac0",
        "outputId": "8978d83b-cbd4-478a-a686-c77be744ac4f"
      },
      "execution_count": 264,
      "outputs": [
        {
          "output_type": "stream",
          "name": "stdout",
          "text": [
            "kNN accuracy: 1.0\n"
          ]
        }
      ]
    },
    {
      "cell_type": "code",
      "source": [],
      "metadata": {
        "id": "WflY92QF89sC"
      },
      "execution_count": null,
      "outputs": []
    },
    {
      "cell_type": "code",
      "source": [
        "\n",
        "# Read the text file\n",
        "with open('/content/test2.txt', 'r') as file:\n",
        "    lines = file.readlines()\n",
        "\n",
        "# Prepare the data for classification\n",
        "test_questions = []\n",
        "test_labels = []\n",
        "current_label = 0\n",
        "\n",
        "for line in lines:\n",
        "    line = line.strip()\n",
        "    if line == '---':\n",
        "        current_label += 1\n",
        "    else:\n",
        "        test_questions.append(line)\n",
        "        test_labels.append(current_label)\n",
        "\n",
        "# Create a dataframe for classification\n",
        "test_data = pd.DataFrame({'Question': test_questions, 'Label': test_labels})"
      ],
      "metadata": {
        "id": "6-mjuHQC897S"
      },
      "execution_count": 265,
      "outputs": []
    },
    {
      "cell_type": "code",
      "source": [
        "\n",
        "test_texts = list(test_data['Question'].astype(str))  # Convert to list of strings\n",
        "\n",
        "tokenizer = BertTokenizer.from_pretrained('bert-base-uncased', do_lower_case=True)\n",
        "\n",
        "test_encodings = tokenizer(test_texts, truncation=True, max_length=40, pad_to_max_length = True, add_special_tokens = True, return_attention_mask = True)\n",
        "\n",
        "test_dataset = torch.utils.data.TensorDataset(torch.tensor(test_encodings['input_ids']).to(device),\n",
        "                                               torch.tensor(test_encodings['attention_mask']).to(device),\n",
        "                                               torch.tensor(test_data[\"Label\"].values).to(device))"
      ],
      "metadata": {
        "colab": {
          "base_uri": "https://localhost:8080/"
        },
        "id": "zwdpk9NY897X",
        "outputId": "4b518507-0e06-4e44-cf4d-49d29a84ffb6"
      },
      "execution_count": 266,
      "outputs": [
        {
          "output_type": "stream",
          "name": "stderr",
          "text": [
            "/usr/local/lib/python3.10/dist-packages/transformers/tokenization_utils_base.py:2377: FutureWarning: The `pad_to_max_length` argument is deprecated and will be removed in a future version, use `padding=True` or `padding='longest'` to pad to the longest sequence in the batch, or use `padding='max_length'` to pad to a max length. In this case, you can give a specific length with `max_length` (e.g. `max_length=45`) or leave max_length to None to pad to the maximal input size of the model (e.g. 512 for Bert).\n",
            "  warnings.warn(\n"
          ]
        }
      ]
    },
    {
      "cell_type": "code",
      "source": [
        "\n",
        "test_loader = torch.utils.data.DataLoader(test_dataset)\n"
      ],
      "metadata": {
        "id": "ggUSsCpq897Z"
      },
      "execution_count": 267,
      "outputs": []
    },
    {
      "cell_type": "code",
      "source": [
        "model.eval()\n",
        "\n",
        "# Generate embeddings for the test set\n",
        "test_embeddings = []\n",
        "test_labels = []\n",
        "test_samples = []  # Add a list to store test samples\n",
        "with torch.no_grad():\n",
        "    for batch in test_loader:\n",
        "        batch = tuple(t.to(device) for t in batch)\n",
        "        b_input_ids, b_input_mask, b_labels = batch\n",
        "        with torch.no_grad():\n",
        "            embeddings = torch.nn.functional.normalize(model(b_input_ids, attention_mask=b_input_mask), dim=-1)\n",
        "        test_embeddings.append(embeddings.cpu().numpy())\n",
        "        test_labels.append(b_labels.cpu().numpy())\n",
        "        test_samples.extend(b_input_ids.cpu().numpy())  # Add the test samples to the list\n",
        "\n",
        "test_embeddings = np.concatenate(test_embeddings, axis=0)\n",
        "test_labels = np.concatenate(test_labels, axis=0)\n",
        "\n",
        "# Use kNN to predict labels for the test set embeddings\n",
        "test_pred_labels = knn.predict(test_embeddings)\n",
        "\n",
        "# Compute the accuracy of kNN predictions on the test set\n",
        "accuracy = np.sum(test_pred_labels == test_labels) / len(test_labels)\n",
        "print('kNN accuracy for test data: {}'.format(accuracy))\n",
        "\n",
        "# Iterate over test samples and compare predicted labels with ground truth labels\n",
        "for i in range(len(test_labels)):\n",
        "    if test_pred_labels[i] != test_labels[i]:\n",
        "        print('Incorrect prediction:')\n",
        "        print('Predicted label:', test_pred_labels[i])\n",
        "        print('Ground truth label:', test_labels[i])\n",
        "        sample_text = tokenizer.decode(test_samples[i], skip_special_tokens=True)\n",
        "        print('Sample:', sample_text)\n",
        "        print()"
      ],
      "metadata": {
        "colab": {
          "base_uri": "https://localhost:8080/"
        },
        "id": "vztCQKmE4DrJ",
        "outputId": "53ecf726-9e34-4666-b227-5d1acd9a1651"
      },
      "execution_count": 268,
      "outputs": [
        {
          "output_type": "stream",
          "name": "stdout",
          "text": [
            "kNN accuracy for test data: 0.96\n",
            "Incorrect prediction:\n",
            "Predicted label: 3\n",
            "Ground truth label: 5\n",
            "Sample: what is the limit on the number of semestrs for the z degee?\n",
            "\n",
            "Incorrect prediction:\n",
            "Predicted label: 3\n",
            "Ground truth label: 5\n",
            "Sample: could you provide information about the z degee's maximum semstr count?\n",
            "\n",
            "Incorrect prediction:\n",
            "Predicted label: 3\n",
            "Ground truth label: 7\n",
            "Sample: can you tell me the min requird essential courses to get a z degre?\n",
            "\n",
            "Incorrect prediction:\n",
            "Predicted label: 5\n",
            "Ground truth label: 7\n",
            "Sample: hello, how's your mood today? how many courses are considerd essential to complete a z degee?\n",
            "\n",
            "Incorrect prediction:\n",
            "Predicted label: 9\n",
            "Ground truth label: 12\n",
            "Sample: can you direct me to the place wher i can find bok b?\n",
            "\n",
            "Incorrect prediction:\n",
            "Predicted label: 4\n",
            "Ground truth label: 13\n",
            "Sample: hi, how's your state of mind? i'm looking for the specific plac wher class cl is held. i'm truly touched by your kindness.\n",
            "\n",
            "Incorrect prediction:\n",
            "Predicted label: 9\n",
            "Ground truth label: 13\n",
            "Sample: where is the designatd room for clas cl?\n",
            "\n",
            "Incorrect prediction:\n",
            "Predicted label: 4\n",
            "Ground truth label: 13\n",
            "Sample: hi, how's your day shaping up? hey, how are you coping? could you direct me to the plac wher class cl is condcted?\n",
            "\n"
          ]
        }
      ]
    },
    {
      "cell_type": "code",
      "source": [
        "test_sentence = \"can you give me a list of the professors' names?\"\n",
        "\n",
        "# Preprocess the test sentence\n",
        "test_encoding = tokenizer.encode_plus(\n",
        "    test_sentence,\n",
        "    truncation=True,\n",
        "    max_length=20,\n",
        "    padding='max_length',\n",
        "    add_special_tokens=True,\n",
        "    return_attention_mask=True,\n",
        "    return_tensors='pt'\n",
        ")\n",
        "\n",
        "# Move the test encoding to the GPU (if available)\n",
        "test_encoding = {key: value.to(device) for key, value in test_encoding.items()}\n",
        "\n",
        "# Generate embeddings for the test sentence\n",
        "with torch.no_grad():\n",
        "    test_embedding = torch.nn.functional.normalize(model(test_encoding['input_ids'], attention_mask=test_encoding['attention_mask']), dim=-1)\n",
        "\n",
        "# Use kNN to predict the labels for the test sentence embeddings\n",
        "test_pred_labels = knn.predict(test_embedding.cpu().numpy())\n",
        "\n",
        "label_test = data[data['Label'] == int(test_pred_labels)]\n",
        "print(label_test)"
      ],
      "metadata": {
        "id": "KmzQm1VinMsV",
        "outputId": "d602c612-ff85-4464-e963-7e172e1cdb9a",
        "colab": {
          "base_uri": "https://localhost:8080/"
        }
      },
      "execution_count": null,
      "outputs": [
        {
          "output_type": "stream",
          "name": "stdout",
          "text": [
            "                                              Question  Label\n",
            "198            what is the names of all of professors?     18\n",
            "199          what are the names of all the professors?     18\n",
            "200  can you provide me with the names of all the p...     18\n",
            "201          could you list all the professors' names?     18\n",
            "202  i would like to know the names of all the prof...     18\n",
            "203    please tell me the names of all the professors.     18\n",
            "204  could you share with me the names of all the p...     18\n",
            "205                    what are the professors' names?     18\n",
            "206   can you give me a list of the professors' names?     18\n",
            "207  i'm interested in knowing the names of all the...     18\n",
            "208  could you enlighten me about the names of all ...     18\n"
          ]
        }
      ]
    },
    {
      "cell_type": "code",
      "source": [],
      "metadata": {
        "id": "5ZvcfoaZ3N7X"
      },
      "execution_count": null,
      "outputs": []
    },
    {
      "cell_type": "code",
      "source": [
        "!pip install umap-learn"
      ],
      "metadata": {
        "colab": {
          "base_uri": "https://localhost:8080/"
        },
        "id": "gQAlHCFM_Sxj",
        "outputId": "432d5f9a-765a-42df-bed5-9365aded8b9c"
      },
      "execution_count": 242,
      "outputs": [
        {
          "output_type": "stream",
          "name": "stdout",
          "text": [
            "Collecting umap-learn\n",
            "  Downloading umap-learn-0.5.3.tar.gz (88 kB)\n",
            "\u001b[2K     \u001b[90m━━━━━━━━━━━━━━━━━━━━━━━━━━━━━━━━━━━━━━━━\u001b[0m \u001b[32m88.2/88.2 kB\u001b[0m \u001b[31m4.9 MB/s\u001b[0m eta \u001b[36m0:00:00\u001b[0m\n",
            "\u001b[?25h  Preparing metadata (setup.py) ... \u001b[?25l\u001b[?25hdone\n",
            "Requirement already satisfied: numpy>=1.17 in /usr/local/lib/python3.10/dist-packages (from umap-learn) (1.22.4)\n",
            "Requirement already satisfied: scikit-learn>=0.22 in /usr/local/lib/python3.10/dist-packages (from umap-learn) (1.2.2)\n",
            "Requirement already satisfied: scipy>=1.0 in /usr/local/lib/python3.10/dist-packages (from umap-learn) (1.10.1)\n",
            "Requirement already satisfied: numba>=0.49 in /usr/local/lib/python3.10/dist-packages (from umap-learn) (0.56.4)\n",
            "Collecting pynndescent>=0.5 (from umap-learn)\n",
            "  Downloading pynndescent-0.5.10.tar.gz (1.1 MB)\n",
            "\u001b[2K     \u001b[90m━━━━━━━━━━━━━━━━━━━━━━━━━━━━━━━━━━━━━━━━\u001b[0m \u001b[32m1.1/1.1 MB\u001b[0m \u001b[31m38.4 MB/s\u001b[0m eta \u001b[36m0:00:00\u001b[0m\n",
            "\u001b[?25h  Preparing metadata (setup.py) ... \u001b[?25l\u001b[?25hdone\n",
            "Requirement already satisfied: tqdm in /usr/local/lib/python3.10/dist-packages (from umap-learn) (4.65.0)\n",
            "Requirement already satisfied: llvmlite<0.40,>=0.39.0dev0 in /usr/local/lib/python3.10/dist-packages (from numba>=0.49->umap-learn) (0.39.1)\n",
            "Requirement already satisfied: setuptools in /usr/local/lib/python3.10/dist-packages (from numba>=0.49->umap-learn) (67.7.2)\n",
            "Requirement already satisfied: joblib>=0.11 in /usr/local/lib/python3.10/dist-packages (from pynndescent>=0.5->umap-learn) (1.2.0)\n",
            "Requirement already satisfied: threadpoolctl>=2.0.0 in /usr/local/lib/python3.10/dist-packages (from scikit-learn>=0.22->umap-learn) (3.1.0)\n",
            "Building wheels for collected packages: umap-learn, pynndescent\n",
            "  Building wheel for umap-learn (setup.py) ... \u001b[?25l\u001b[?25hdone\n",
            "  Created wheel for umap-learn: filename=umap_learn-0.5.3-py3-none-any.whl size=82816 sha256=4ea8db3d39dba15478ff67e42f25ee0c27267bea9a601c7825adf585e46172a2\n",
            "  Stored in directory: /root/.cache/pip/wheels/a0/e8/c6/a37ea663620bd5200ea1ba0907ab3c217042c1d035ef606acc\n",
            "  Building wheel for pynndescent (setup.py) ... \u001b[?25l\u001b[?25hdone\n",
            "  Created wheel for pynndescent: filename=pynndescent-0.5.10-py3-none-any.whl size=55622 sha256=f51f8b09ceeb311a11ef2681a2adc0fee999e06a89539aebc5c8fe22e3c2f301\n",
            "  Stored in directory: /root/.cache/pip/wheels/4a/38/5d/f60a40a66a9512b7e5e83517ebc2d1b42d857be97d135f1096\n",
            "Successfully built umap-learn pynndescent\n",
            "Installing collected packages: pynndescent, umap-learn\n",
            "Successfully installed pynndescent-0.5.10 umap-learn-0.5.3\n"
          ]
        }
      ]
    },
    {
      "cell_type": "code",
      "source": [
        "x=embeddings[0]\n",
        "x.min(),x.max(),x.mean(),x.std()"
      ],
      "metadata": {
        "colab": {
          "base_uri": "https://localhost:8080/"
        },
        "id": "-ojSxfUpXRs6",
        "outputId": "d24e2476-5a84-4f2d-e1a7-cd94b5082fca"
      },
      "execution_count": 243,
      "outputs": [
        {
          "output_type": "execute_result",
          "data": {
            "text/plain": [
              "(tensor(-0.1807, device='cuda:0'),\n",
              " tensor(0.2193, device='cuda:0'),\n",
              " tensor(-0.0009, device='cuda:0'),\n",
              " tensor(0.0626, device='cuda:0'))"
            ]
          },
          "metadata": {},
          "execution_count": 243
        }
      ]
    },
    {
      "cell_type": "code",
      "source": [
        "#Training the model\n",
        "\n",
        "from transformers import BertForSequenceClassification, AdamW, BertConfig\n",
        "\n",
        "import torch.nn as nn\n",
        "from transformers import BertModel\n",
        "\n",
        "class Model(nn.Module):\n",
        "    def __init__(self, bert_model):\n",
        "        super(Model, self).__init__()\n",
        "        self.bert = bert_model\n",
        "\n",
        "\n",
        "    def forward(self, input_ids, attention_mask):\n",
        "        outputs = self.bert(input_ids=input_ids, attention_mask=attention_mask)\n",
        "        pooled_output = outputs[1]\n",
        "        # Remove the layer\n",
        "        return pooled_output\n",
        "\n",
        "# Load pre-trained BERT model\n",
        "bert_model = BertModel.from_pretrained('bert-base-uncased')\n",
        "\n",
        "# Create instance of MetricLearningModel\n",
        "model2 = Model(bert_model)\n",
        "\n",
        "model2.to(device)\n",
        "\n",
        "optimizer = AdamW(model2.parameters(),\n",
        "                  lr = 2e-5,\n",
        "                  eps = 1e-8\n",
        "                )"
      ],
      "metadata": {
        "colab": {
          "base_uri": "https://localhost:8080/"
        },
        "id": "hQmRmjlhs-NX",
        "outputId": "91369dc6-3aa3-4629-8671-e77e1ea2db03"
      },
      "execution_count": 244,
      "outputs": [
        {
          "output_type": "stream",
          "name": "stderr",
          "text": [
            "Some weights of the model checkpoint at bert-base-uncased were not used when initializing BertModel: ['cls.predictions.transform.LayerNorm.weight', 'cls.predictions.transform.dense.weight', 'cls.predictions.transform.dense.bias', 'cls.seq_relationship.bias', 'cls.seq_relationship.weight', 'cls.predictions.bias', 'cls.predictions.transform.LayerNorm.bias']\n",
            "- This IS expected if you are initializing BertModel from the checkpoint of a model trained on another task or with another architecture (e.g. initializing a BertForSequenceClassification model from a BertForPreTraining model).\n",
            "- This IS NOT expected if you are initializing BertModel from the checkpoint of a model that you expect to be exactly identical (initializing a BertForSequenceClassification model from a BertForSequenceClassification model).\n",
            "/usr/local/lib/python3.10/dist-packages/transformers/optimization.py:411: FutureWarning: This implementation of AdamW is deprecated and will be removed in a future version. Use the PyTorch implementation torch.optim.AdamW instead, or set `no_deprecation_warning=True` to disable this warning\n",
            "  warnings.warn(\n"
          ]
        }
      ]
    },
    {
      "cell_type": "code",
      "source": [
        "train_embeddings2 = []\n",
        "train_labels2 = []\n",
        "model.eval()\n",
        "with torch.no_grad():\n",
        "    for batch in tqdm(train_loader, desc=\"Training\"):\n",
        "        # Load batch to GPU\n",
        "        batch = tuple(t.to(device) for t in batch)\n",
        "\n",
        "        # Unpack the inputs from the dataloader\n",
        "        b_input_ids, b_input_mask, b_labels = batch\n",
        "\n",
        "        # Forward pass to get model outputs\n",
        "        embeddings = torch.nn.functional.normalize(model2(b_input_ids, attention_mask=b_input_mask), dim=-1)\n",
        "\n",
        "        # Save embeddings and labels\n",
        "        train_embeddings2.append(embeddings.cpu().detach().numpy())\n",
        "        train_labels2.append(b_labels.cpu().detach().numpy())\n",
        "\n",
        "# Concatenate embeddings and labels\n",
        "train_embeddings2 = np.concatenate(train_embeddings2, axis=0)\n",
        "train_labels2 = np.concatenate(train_labels2, axis=0)"
      ],
      "metadata": {
        "colab": {
          "base_uri": "https://localhost:8080/"
        },
        "id": "jAerBTHFwBvH",
        "outputId": "829f4d86-67ca-4d11-b015-cb67d8be5154"
      },
      "execution_count": null,
      "outputs": [
        {
          "output_type": "stream",
          "name": "stderr",
          "text": [
            "Training: 100%|██████████| 1/1 [00:00<00:00,  3.04it/s]\n"
          ]
        }
      ]
    },
    {
      "cell_type": "code",
      "source": [
        "import umap.umap_ as umap\n",
        "import numpy as np\n",
        "import matplotlib.pyplot as plt\n",
        "import seaborn as sns\n",
        "\n",
        "# Assuming you have a DataLoader called 'test_loader' that loads your test data\n",
        "\n",
        "# Step 1: Extract embeddings and labels\n",
        "embeddings = []\n",
        "labels = []\n",
        "\n",
        "embeddings = train_embeddings2\n",
        "labels = train_labels2\n",
        "\n",
        "# Step 2: Reduce dimensionality using UMAP\n",
        "reducer = umap.UMAP()\n",
        "test_emb = reducer.fit_transform(embeddings)\n",
        "\n",
        "# Step 3: Set plot style and font scale\n",
        "sns.set(style='whitegrid', font_scale=1.2)\n",
        "\n",
        "# Step 4: Create scatter plot with customized marker size and color scheme\n",
        "colors = ['#377eb8', '#e41a1c', '#4daf4a', '#984ea3', '#ff7f00',\n",
        "          '#ffff33', '#a65628', '#f781bf', '#999999', '#000000',\n",
        "          '#a6cee3', '#1f78b4', '#b2df8a', '#33a02c', '#fb9a99',\n",
        "          '#fdbf6f', '#ff7f00', '#cab2d6', '#6a3d9a', '#b15928']\n",
        "\n",
        "plt.figure(figsize=(10, 7))\n",
        "sns.scatterplot(x=test_emb[:, 0], y=test_emb[:, 1], hue=labels, s=50, palette=colors)\n",
        "\n",
        "# Step 5: Add axis labels and title\n",
        "plt.xlabel('UMAP Dimension 1')\n",
        "plt.ylabel('UMAP Dimension 2')\n",
        "plt.title('Scatter Plot of Test Embeddings', fontsize=18)\n",
        "\n",
        "# Step 6: Add legend\n",
        "plt.legend(title='Classes', loc='best', fontsize=12)\n",
        "\n",
        "# Step 7: Add grid lines\n",
        "plt.grid(True)\n",
        "\n",
        "# Step 8: Show the plot\n",
        "plt.show()"
      ],
      "metadata": {
        "colab": {
          "base_uri": "https://localhost:8080/",
          "height": 659
        },
        "id": "2d-rqYbBvVMo",
        "outputId": "558aa090-033f-4779-e8a7-9eb17cf2f438"
      },
      "execution_count": null,
      "outputs": [
        {
          "output_type": "display_data",
          "data": {
            "text/plain": [
              "<Figure size 1000x700 with 1 Axes>"
            ],
            "image/png": "[encoded data removed]"
          },
          "metadata": {}
        }
      ]
    },
    {
      "cell_type": "code",
      "source": [
        "train_embeddings = []\n",
        "train_labels = []\n",
        "model.eval()\n",
        "with torch.no_grad():\n",
        "    for batch in tqdm(train_loader, desc=\"Training\"):\n",
        "        # Load batch to GPU\n",
        "        batch = tuple(t.to(device) for t in batch)\n",
        "\n",
        "        # Unpack the inputs from the dataloader\n",
        "        b_input_ids, b_input_mask, b_labels = batch\n",
        "\n",
        "        # Forward pass to get model outputs\n",
        "        embeddings = torch.nn.functional.normalize(model(b_input_ids, attention_mask=b_input_mask), dim=-1)\n",
        "\n",
        "        # Save embeddings and labels\n",
        "        train_embeddings.append(embeddings.cpu().detach().numpy())\n",
        "        train_labels.append(b_labels.cpu().detach().numpy())\n",
        "\n",
        "# Concatenate embeddings and labels\n",
        "train_embeddings = np.concatenate(train_embeddings, axis=0)\n",
        "train_labels = np.concatenate(train_labels, axis=0)"
      ],
      "metadata": {
        "colab": {
          "base_uri": "https://localhost:8080/"
        },
        "id": "U29qmDsNTVHn",
        "outputId": "1a792420-bab1-4cc5-c045-c579b091e89e"
      },
      "execution_count": 270,
      "outputs": [
        {
          "output_type": "stream",
          "name": "stderr",
          "text": [
            "Training: 100%|██████████| 1/1 [00:00<00:00,  3.34it/s]\n"
          ]
        }
      ]
    },
    {
      "cell_type": "code",
      "source": [
        "import umap.umap_ as umap\n",
        "import numpy as np\n",
        "import matplotlib.pyplot as plt\n",
        "import seaborn as sns\n",
        "\n",
        "# Assuming you have a DataLoader called 'test_loader' that loads your test data\n",
        "\n",
        "# Step 1: Extract embeddings and labels\n",
        "embeddings = []\n",
        "labels = []\n",
        "\n",
        "embeddings = train_embeddings\n",
        "labels = train_labels\n",
        "\n",
        "# Step 2: Reduce dimensionality using UMAP\n",
        "reducer = umap.UMAP()\n",
        "test_emb = reducer.fit_transform(embeddings)\n",
        "\n",
        "# Step 3: Set plot style and font scale\n",
        "sns.set(style='whitegrid', font_scale=1.2)\n",
        "\n",
        "# Step 4: Create scatter plot with customized marker size and color scheme\n",
        "colors = ['#377eb8', '#e41a1c', '#4daf4a', '#984ea3', '#ff7f00',\n",
        "          '#ffff33', '#a65628', '#f781bf', '#999999', '#000000',\n",
        "          '#a6cee3', '#1f78b4', '#b2df8a', '#33a02c', '#fb9a99',\n",
        "          '#fdbf6f', '#ff7f00', '#cab2d6', '#6a3d9a', '#b15928']\n",
        "\n",
        "plt.figure(figsize=(10, 7))\n",
        "sns.scatterplot(x=test_emb[:, 0], y=test_emb[:, 1], hue=labels, s=50, palette=colors)\n",
        "\n",
        "# Step 5: Add axis labels and title\n",
        "plt.xlabel('UMAP Dimension 1')\n",
        "plt.ylabel('UMAP Dimension 2')\n",
        "plt.title('Scatter Plot of Test Embeddings', fontsize=18)\n",
        "\n",
        "# Step 6: Add legend\n",
        "plt.legend(title='Classes', loc='best', fontsize=12)\n",
        "\n",
        "# Step 7: Add grid lines\n",
        "plt.grid(True)\n",
        "\n",
        "# Step 8: Show the plot\n",
        "plt.show()"
      ],
      "metadata": {
        "colab": {
          "base_uri": "https://localhost:8080/",
          "height": 659
        },
        "id": "gN57Dba8_N_u",
        "outputId": "679cb3fb-9a82-476e-dee1-613cd53cab9c"
      },
      "execution_count": 277,
      "outputs": [
        {
          "output_type": "display_data",
          "data": {
            "text/plain": [
              "<Figure size 1000x700 with 1 Axes>"
            ],
            "image/png": "[encoded data removed]"
          },
          "metadata": {}
        }
      ]
    },
    {
      "cell_type": "code",
      "source": [
        "test_embeddings = []\n",
        "test_labels = []\n",
        "model.eval()\n",
        "with torch.no_grad():\n",
        "    for batch in tqdm(test_loader, desc=\"Training\"):\n",
        "        # Load batch to GPU\n",
        "        batch = tuple(t.to(device) for t in batch)\n",
        "\n",
        "        # Unpack the inputs from the dataloader\n",
        "        b_input_ids, b_input_mask, b_labels = batch\n",
        "\n",
        "        # Forward pass to get model outputs\n",
        "        embeddings = torch.nn.functional.normalize(model(b_input_ids, attention_mask=b_input_mask), dim=-1)\n",
        "\n",
        "        # Save embeddings and labels\n",
        "        test_embeddings.append(embeddings.cpu().detach().numpy())\n",
        "        test_labels.append(b_labels.cpu().detach().numpy())\n",
        "\n",
        "# Concatenate embeddings and labels\n",
        "test_embeddings = np.concatenate(test_embeddings, axis=0)\n",
        "test_labels = np.concatenate(test_labels, axis=0)"
      ],
      "metadata": {
        "colab": {
          "base_uri": "https://localhost:8080/"
        },
        "id": "ccSQysXwTmIC",
        "outputId": "2474fd82-e990-4935-f576-5438d222dee1"
      },
      "execution_count": 278,
      "outputs": [
        {
          "output_type": "stream",
          "name": "stderr",
          "text": [
            "Training: 100%|██████████| 200/200 [00:03<00:00, 63.54it/s]\n"
          ]
        }
      ]
    },
    {
      "cell_type": "code",
      "source": [
        "import umap.umap_ as umap\n",
        "import numpy as np\n",
        "import matplotlib.pyplot as plt\n",
        "import seaborn as sns\n",
        "\n",
        "# Assuming you have a DataLoader called 'test_loader' that loads your test data\n",
        "\n",
        "# Step 1: Extract embeddings and labels\n",
        "embeddings = []\n",
        "labels = []\n",
        "\n",
        "embeddings = test_embeddings\n",
        "labels = test_labels\n",
        "\n",
        "# Step 2: Reduce dimensionality using UMAP\n",
        "\n",
        "test_emb = reducer.transform(embeddings)\n",
        "\n",
        "# Step 3: Set plot style and font scale\n",
        "sns.set(style='whitegrid', font_scale=1.2)\n",
        "\n",
        "# Step 4: Create scatter plot with customized marker size and color scheme\n",
        "colors = ['#377eb8', '#e41a1c', '#4daf4a', '#984ea3', '#ff7f00',\n",
        "          '#ffff33', '#a65628', '#f781bf', '#999999', '#000000',\n",
        "          '#a6cee3', '#1f78b4', '#b2df8a', '#33a02c', '#fb9a99',\n",
        "          '#fdbf6f', '#ff7f00', '#cab2d6', '#6a3d9a', '#b15928']\n",
        "\n",
        "plt.figure(figsize=(10, 7))\n",
        "sns.scatterplot(x=test_emb[:, 0], y=test_emb[:, 1], hue=labels, s=50, palette=colors)\n",
        "\n",
        "# Step 5: Add axis labels and title\n",
        "plt.xlabel('UMAP Dimension 1')\n",
        "plt.ylabel('UMAP Dimension 2')\n",
        "plt.title('Scatter Plot of Test Embeddings', fontsize=18)\n",
        "\n",
        "# Step 6: Add legend\n",
        "plt.legend(title='Classes', loc='best', fontsize=12)\n",
        "\n",
        "# Step 7: Add grid lines\n",
        "plt.grid(True)\n",
        "\n",
        "# Step 8: Show the plot\n",
        "plt.show()"
      ],
      "metadata": {
        "colab": {
          "base_uri": "https://localhost:8080/",
          "height": 659
        },
        "id": "sCTOl2FXTnzW",
        "outputId": "b4f1fff6-1d6a-40bc-d1f9-ae185dfcc610"
      },
      "execution_count": 279,
      "outputs": [
        {
          "output_type": "display_data",
          "data": {
            "text/plain": [
              "<Figure size 1000x700 with 1 Axes>"
            ],
            "image/png": "[encoded data removed]"
          },
          "metadata": {}
        }
      ]
    },
    {
      "cell_type": "code",
      "source": [
        "!pip install owlready2\n",
        "!pip install rdflib\n",
        "from owlready2 import *\n",
        "import rdflib"
      ],
      "metadata": {
        "colab": {
          "base_uri": "https://localhost:8080/"
        },
        "id": "4fqgGnrBCfVP",
        "outputId": "ccb82d47-78bf-419a-fdaf-6627a45b6dfd"
      },
      "execution_count": null,
      "outputs": [
        {
          "output_type": "stream",
          "name": "stdout",
          "text": [
            "Collecting owlready2\n",
            "  Downloading Owlready2-0.43.tar.gz (27.4 MB)\n",
            "\u001b[2K     \u001b[90m━━━━━━━━━━━━━━━━━━━━━━━━━━━━━━━━━━━━━━━━\u001b[0m \u001b[32m27.4/27.4 MB\u001b[0m \u001b[31m51.1 MB/s\u001b[0m eta \u001b[36m0:00:00\u001b[0m\n",
            "\u001b[?25h  Installing build dependencies ... \u001b[?25l\u001b[?25hdone\n",
            "  Getting requirements to build wheel ... \u001b[?25l\u001b[?25hdone\n",
            "  Preparing metadata (pyproject.toml) ... \u001b[?25l\u001b[?25hdone\n",
            "Building wheels for collected packages: owlready2\n",
            "  Building wheel for owlready2 (pyproject.toml) ... \u001b[?25l\u001b[?25hdone\n",
            "  Created wheel for owlready2: filename=Owlready2-0.43-cp310-cp310-linux_x86_64.whl size=24154510 sha256=b29fc72c09402c89cbf03e267bfd61abbb71e36f1ffb406644bc87e3b260ac73\n",
            "  Stored in directory: /root/.cache/pip/wheels/bc/9b/82/c07844dfbaa52dbf3352b18b0a27c348ee854df8b752990c53\n",
            "Successfully built owlready2\n",
            "Installing collected packages: owlready2\n",
            "Successfully installed owlready2-0.43\n",
            "Collecting rdflib\n",
            "  Downloading rdflib-6.3.2-py3-none-any.whl (528 kB)\n",
            "\u001b[2K     \u001b[90m━━━━━━━━━━━━━━━━━━━━━━━━━━━━━━━━━━━━━━━\u001b[0m \u001b[32m528.1/528.1 kB\u001b[0m \u001b[31m9.7 MB/s\u001b[0m eta \u001b[36m0:00:00\u001b[0m\n",
            "\u001b[?25hCollecting isodate<0.7.0,>=0.6.0 (from rdflib)\n",
            "  Downloading isodate-0.6.1-py2.py3-none-any.whl (41 kB)\n",
            "\u001b[2K     \u001b[90m━━━━━━━━━━━━━━━━━━━━━━━━━━━━━━━━━━━━━━━━\u001b[0m \u001b[32m41.7/41.7 kB\u001b[0m \u001b[31m5.0 MB/s\u001b[0m eta \u001b[36m0:00:00\u001b[0m\n",
            "\u001b[?25hRequirement already satisfied: pyparsing<4,>=2.1.0 in /usr/local/lib/python3.10/dist-packages (from rdflib) (3.1.0)\n",
            "Requirement already satisfied: six in /usr/local/lib/python3.10/dist-packages (from isodate<0.7.0,>=0.6.0->rdflib) (1.16.0)\n",
            "Installing collected packages: isodate, rdflib\n",
            "Successfully installed isodate-0.6.1 rdflib-6.3.2\n"
          ]
        }
      ]
    },
    {
      "cell_type": "code",
      "source": [
        "import pandas as pd\n",
        "\n",
        "\n",
        "sentence = \"how many semesters  i ve to ps for masters?\"\n",
        "\n",
        "\n",
        "replacements = {\n",
        "    \"shamsfard\": \"x\",\n",
        "    \"salimibadr\": \"x\",\n",
        "    \"ghavamizadeh\": \"x\",\n",
        "    \"abdoos\": \"x\",\n",
        "    \"computer engineering\": \"y\",\n",
        "    \"industrial engineering\": \"y\",\n",
        "    \"ai\": \"c\",\n",
        "    \"nlp\": \"c\",\n",
        "    \"russel\": \"b\",\n",
        "    \"101\": \"cl\",\n",
        "    \"masters\": \"z\",\n",
        "    \"bachelors\": \"z\",\n",
        "    \"phd\": \"z\",\n",
        "    \"1400\": \"t\"\n",
        "}\n",
        "\n",
        "\n",
        "replaced_words = {\n",
        "    \"x\": None,\n",
        "    \"y\": None,\n",
        "    \"c\": None,\n",
        "    \"b\": None,\n",
        "    \"cl\": None,\n",
        "    \"z\": None,\n",
        "    \"t\": None\n",
        "}\n",
        "\n",
        "\n",
        "for word, replacement in replacements.items():\n",
        "\n",
        "    if word.lower() in sentence.lower():\n",
        "        replaced_words[replacement] = word\n",
        "        sentence = sentence.replace(word, replacement)\n",
        "\n",
        "\n",
        "df = pd.DataFrame(replaced_words, index=[0])\n",
        "\n",
        "# Print the modified sentence\n",
        "print(\"Modified Sentence:\", sentence)\n",
        "print()\n",
        "\n",
        "# Print the resulting dataframe\n",
        "print(\"Dataframe:\")\n",
        "print(df)\n",
        "\n"
      ],
      "metadata": {
        "colab": {
          "base_uri": "https://localhost:8080/"
        },
        "id": "GLjHjW1gdKNh",
        "outputId": "e10de741-b841-4c71-cfeb-f1321730eb0b"
      },
      "execution_count": null,
      "outputs": [
        {
          "output_type": "stream",
          "name": "stdout",
          "text": [
            "Modified Sentence: how many semesters  i ve to ps for z?\n",
            "\n",
            "Dataframe:\n",
            "      x     y     c     b    cl        z     t\n",
            "0  None  None  None  None  None  masters  None\n"
          ]
        }
      ]
    },
    {
      "cell_type": "code",
      "source": [
        "test_sentence = sentence\n",
        "\n",
        "# Preprocess the test sentence\n",
        "test_encoding = tokenizer.encode_plus(\n",
        "    test_sentence,\n",
        "    truncation=True,\n",
        "    max_length=20,\n",
        "    padding='max_length',\n",
        "    add_special_tokens=True,\n",
        "    return_attention_mask=True,\n",
        "    return_tensors='pt'\n",
        ")\n",
        "\n",
        "# Move the test encoding to the GPU (if available)\n",
        "test_encoding = {key: value.to(device) for key, value in test_encoding.items()}\n",
        "\n",
        "# Generate embeddings for the test sentence\n",
        "with torch.no_grad():\n",
        "    test_embedding = torch.nn.functional.normalize(model(test_encoding['input_ids'], attention_mask=test_encoding['attention_mask']), dim=-1)\n",
        "\n",
        "# Use kNN to predict the labels for the test sentence embeddings\n",
        "test_pred_labels = knn.predict(test_embedding.cpu().numpy())\n",
        "\n",
        "label_test = data[data['Label'] == int(test_pred_labels)]\n",
        "print(label_test)"
      ],
      "metadata": {
        "colab": {
          "base_uri": "https://localhost:8080/"
        },
        "id": "fnK7WiEzIwjC",
        "outputId": "49495f91-f588-4190-b876-c96677c63b41"
      },
      "execution_count": null,
      "outputs": [
        {
          "output_type": "stream",
          "name": "stdout",
          "text": [
            "                                             Question  Label\n",
            "55  what is the maximum number of semesters in the...      5\n",
            "56  what is the highest allowed number of semester...      5\n",
            "57  can you tell me the maximum semester limit for...      5\n",
            "58  how many semesters can one take to complete th...      5\n",
            "59  what is the upper limit of semesters for the z...      5\n",
            "60  is there a cap on the number of semesters for ...      5\n",
            "61  can you provide information on the maximum dur...      5\n",
            "62  what is the maximum semester count for complet...      5\n",
            "63  how long can one extend their studies in terms...      5\n",
            "64  what is the prescribed semester range for the ...      5\n",
            "65  can you inform me about the allowed length in ...      5\n"
          ]
        }
      ]
    },
    {
      "cell_type": "code",
      "source": [
        "!pip install rdflib"
      ],
      "metadata": {
        "colab": {
          "base_uri": "https://localhost:8080/"
        },
        "id": "me3dy7zRrpMB",
        "outputId": "2d34d467-655f-414c-b880-d091693ef119"
      },
      "execution_count": null,
      "outputs": [
        {
          "output_type": "stream",
          "name": "stdout",
          "text": [
            "Collecting rdflib\n",
            "  Downloading rdflib-6.3.2-py3-none-any.whl (528 kB)\n",
            "\u001b[?25l     \u001b[90m━━━━━━━━━━━━━━━━━━━━━━━━━━━━━━━━━━━━━━━━\u001b[0m \u001b[32m0.0/528.1 kB\u001b[0m \u001b[31m?\u001b[0m eta \u001b[36m-:--:--\u001b[0m\r\u001b[2K     \u001b[91m━━━━━━━━━━━━━━━━━━━━━━━━━━━━━━━━━━━━━\u001b[0m\u001b[91m╸\u001b[0m \u001b[32m522.2/528.1 kB\u001b[0m \u001b[31m29.9 MB/s\u001b[0m eta \u001b[36m0:00:01\u001b[0m\r\u001b[2K     \u001b[90m━━━━━━━━━━━━━━━━━━━━━━━━━━━━━━━━━━━━━━\u001b[0m \u001b[32m528.1/528.1 kB\u001b[0m \u001b[31m13.6 MB/s\u001b[0m eta \u001b[36m0:00:00\u001b[0m\n",
            "\u001b[?25hCollecting isodate<0.7.0,>=0.6.0 (from rdflib)\n",
            "  Downloading isodate-0.6.1-py2.py3-none-any.whl (41 kB)\n",
            "\u001b[?25l     \u001b[90m━━━━━━━━━━━━━━━━━━━━━━━━━━━━━━━━━━━━━━━━\u001b[0m \u001b[32m0.0/41.7 kB\u001b[0m \u001b[31m?\u001b[0m eta \u001b[36m-:--:--\u001b[0m\r\u001b[2K     \u001b[90m━━━━━━━━━━━━━━━━━━━━━━━━━━━━━━━━━━━━━━━━\u001b[0m \u001b[32m41.7/41.7 kB\u001b[0m \u001b[31m3.5 MB/s\u001b[0m eta \u001b[36m0:00:00\u001b[0m\n",
            "\u001b[?25hRequirement already satisfied: pyparsing<4,>=2.1.0 in /usr/local/lib/python3.10/dist-packages (from rdflib) (3.1.0)\n",
            "Requirement already satisfied: six in /usr/local/lib/python3.10/dist-packages (from isodate<0.7.0,>=0.6.0->rdflib) (1.16.0)\n",
            "Installing collected packages: isodate, rdflib\n",
            "Successfully installed isodate-0.6.1 rdflib-6.3.2\n"
          ]
        }
      ]
    },
    {
      "cell_type": "code",
      "source": [
        "from rdflib import Graph\n",
        "\n",
        "graph = Graph()\n",
        "\n",
        "graph.parse(\"/content/uni_rdf(1).rdf\")\n",
        "\n",
        "your_namespace = \"http://www.semanticweb.org/sepideh/ontologies/2023/5/university-ontology#\"\n",
        "\n",
        "\n",
        "test_pred_labels = int(test_pred_labels)\n",
        "\n",
        "if test_pred_labels == 0:\n",
        "    if df['x'][0] == 'shamsfard':\n",
        "        query = \"\"\"\n",
        "        PREFIX rdf: <http://www.w3.org/1999/02/22-rdf-syntax-ns#>\n",
        "        PREFIX owl: <http://www.w3.org/2002/07/owl#>\n",
        "        PREFIX rdfs: <http://www.w3.org/2000/01/rdf-schema#>\n",
        "        PREFIX xsd: <http://www.w3.org/2001/XMLSchema#>\n",
        "        PREFIX your_namespace: <http://www.semanticweb.org/sepideh/ontologies/2023/5/university-ontology#>\n",
        "\n",
        "        SELECT ?value\n",
        "        WHERE {\n",
        "        your_namespace:دکتر_شمس_فرد your_namespace:شماره_تلفن ?value .\n",
        "        }\n",
        "      \"\"\"\n",
        "    results = graph.query(query)\n",
        "\n",
        "    # Print the results\n",
        "    for row in results:\n",
        "        value = row[\"value\"]\n",
        "        print(value)\n",
        "\n",
        "\n",
        "\n",
        "\n",
        "elif test_pred_labels == 1:\n",
        "    if df['x'][0] == 'shamsfard':\n",
        "        query = \"\"\"\n",
        "        PREFIX rdf: <http://www.w3.org/1999/02/22-rdf-syntax-ns#>\n",
        "        PREFIX owl: <http://www.w3.org/2002/07/owl#>\n",
        "        PREFIX rdfs: <http://www.w3.org/2000/01/rdf-schema#>\n",
        "        PREFIX xsd: <http://www.w3.org/2001/XMLSchema#>\n",
        "        PREFIX your_namespace: <http://www.semanticweb.org/sepideh/ontologies/2023/5/university-ontology#>\n",
        "\n",
        "        SELECT ?destination\n",
        "        WHERE {\n",
        "          your_namespace:دکتر_شمس_فرد your_namespace:تدریس_میکند ?destination .\n",
        "        }\n",
        "      \"\"\"\n",
        "    results = graph.query(query)\n",
        "\n",
        "    for row in results:\n",
        "        destination = row.destination.toPython()\n",
        "        label = destination.split(\"#\")[-1]\n",
        "        print(label)\n",
        "\n",
        "\n",
        "if test_pred_labels == 2:\n",
        "    if df['x'][0] == 'shamsfard':\n",
        "        query = \"\"\"\n",
        "        PREFIX rdf: <http://www.w3.org/1999/02/22-rdf-syntax-ns#>\n",
        "        PREFIX owl: <http://www.w3.org/2002/07/owl#>\n",
        "        PREFIX rdfs: <http://www.w3.org/2000/01/rdf-schema#>\n",
        "        PREFIX xsd: <http://www.w3.org/2001/XMLSchema#>\n",
        "        PREFIX your_namespace: <http://www.semanticweb.org/sepideh/ontologies/2023/5/university-ontology#>\n",
        "\n",
        "        SELECT ?value\n",
        "        WHERE {\n",
        "        your_namespace:دکتر_شمس_فرد your_namespace:آخرین_مدرک_اخذ_شده ?value .\n",
        "        }\n",
        "      \"\"\"\n",
        "    results = graph.query(query)\n",
        "\n",
        "    # Print the results\n",
        "    for row in results:\n",
        "        value = row[\"value\"]\n",
        "        print(value)\n",
        "\n",
        "if test_pred_labels == 3:\n",
        "    if df['z'][0] == 'masters':\n",
        "        query = \"\"\"\n",
        "        PREFIX rdf: <http://www.w3.org/1999/02/22-rdf-syntax-ns#>\n",
        "        PREFIX owl: <http://www.w3.org/2002/07/owl#>\n",
        "        PREFIX rdfs: <http://www.w3.org/2000/01/rdf-schema#>\n",
        "        PREFIX xsd: <http://www.w3.org/2001/XMLSchema#>\n",
        "        PREFIX your_namespace: <http://www.semanticweb.org/sepideh/ontologies/2023/5/university-ontology#>\n",
        "\n",
        "        SELECT ?value\n",
        "        WHERE {\n",
        "        your_namespace:قانون_فارغ_التحصیلی your_namespace:تعداد_واحد_مورد_نیاز_برای_فارغ_التحصیلی ?value .\n",
        "        }\n",
        "      \"\"\"\n",
        "        results = graph.query(query)\n",
        "\n",
        "    # Print the results\n",
        "        for row in results:\n",
        "            value = row[\"value\"]\n",
        "            print(value)\n",
        "\n",
        "\n",
        "    elif df['z'][0] == 'bachelors':\n",
        "        query = \"\"\"\n",
        "        PREFIX rdf: <http://www.w3.org/1999/02/22-rdf-syntax-ns#>\n",
        "        PREFIX owl: <http://www.w3.org/2002/07/owl#>\n",
        "        PREFIX rdfs: <http://www.w3.org/2000/01/rdf-schema#>\n",
        "        PREFIX xsd: <http://www.w3.org/2001/XMLSchema#>\n",
        "        PREFIX your_namespace: <http://www.semanticweb.org/sepideh/ontologies/2023/5/university-ontology#>\n",
        "\n",
        "        SELECT ?value\n",
        "        WHERE {\n",
        "        your_namespace:دکتر_شمس_فرد your_namespace:آخرین_مدرک_اخذ_شده ?value .\n",
        "        }\n",
        "      \"\"\"\n",
        "        results = graph.query(query)\n",
        "\n",
        "        # Print the results\n",
        "        for row in results:\n",
        "            value = row[\"value\"]\n",
        "            print(value)\n",
        "\n",
        "\n",
        "\n",
        "\n",
        "elif test_pred_labels == 4:\n",
        "    if df['y'][0] == 'computer engineering':\n",
        "        query = \"\"\"\n",
        "        PREFIX rdf: <http://www.w3.org/1999/02/22-rdf-syntax-ns#>\n",
        "        PREFIX owl: <http://www.w3.org/2002/07/owl#>\n",
        "        PREFIX rdfs: <http://www.w3.org/2000/01/rdf-schema#>\n",
        "        PREFIX xsd: <http://www.w3.org/2001/XMLSchema#>\n",
        "        PREFIX your_namespace: <http://www.semanticweb.org/sepideh/ontologies/2023/5/university-ontology#>\n",
        "\n",
        "        SELECT ?value\n",
        "        WHERE {\n",
        "        your_namespace:سایت_دانشکده your_namespace:آدرس_تارنما ?value .\n",
        "        }\n",
        "      \"\"\"\n",
        "        results = graph.query(query)\n",
        "\n",
        "        # Print the results\n",
        "        for row in results:\n",
        "            value = row[\"value\"]\n",
        "            print(value)\n",
        "\n",
        "\n",
        "\n",
        "elif test_pred_labels == 5:\n",
        "    if df['z'][0] == 'masters':\n",
        "        query = \"\"\"\n",
        "        PREFIX rdf: <http://www.w3.org/1999/02/22-rdf-syntax-ns#>\n",
        "        PREFIX owl: <http://www.w3.org/2002/07/owl#>\n",
        "        PREFIX rdfs: <http://www.w3.org/2000/01/rdf-schema#>\n",
        "        PREFIX xsd: <http://www.w3.org/2001/XMLSchema#>\n",
        "        PREFIX your_namespace: <http://www.semanticweb.org/sepideh/ontologies/2023/5/university-ontology#>\n",
        "\n",
        "        SELECT ?value\n",
        "        WHERE {\n",
        "        your_namespace:قانون_سنوات_ارشد your_namespace:تعداد_ترم ?value .\n",
        "        }\n",
        "      \"\"\"\n",
        "        results = graph.query(query)\n",
        "\n",
        "        # Print the results\n",
        "        for row in results:\n",
        "            value = row[\"value\"]\n",
        "            print(value)\n",
        "\n",
        "\n",
        "\n",
        "elif test_pred_labels == 6:\n",
        "    if df['z'][0] == 'masters':\n",
        "        query = \"\"\"\n",
        "        PREFIX rdf: <http://www.w3.org/1999/02/22-rdf-syntax-ns#>\n",
        "        PREFIX owl: <http://www.w3.org/2002/07/owl#>\n",
        "        PREFIX rdfs: <http://www.w3.org/2000/01/rdf-schema#>\n",
        "        PREFIX xsd: <http://www.w3.org/2001/XMLSchema#>\n",
        "        PREFIX your_namespace: <http://www.semanticweb.org/sepideh/ontologies/2023/5/university-ontology#>\n",
        "\n",
        "        SELECT ?value\n",
        "        WHERE {\n",
        "        your_namespace:قانون_مشروطی_در_ارشد your_namespace:معدل_مشروطی ?value .\n",
        "        }\n",
        "      \"\"\"\n",
        "        results = graph.query(query)\n",
        "\n",
        "        # Print the results\n",
        "        for row in results:\n",
        "            value = row[\"value\"]\n",
        "            print(value)\n",
        "\n",
        "\n",
        "\n",
        "elif test_pred_labels == 7:\n",
        "    if df['z'][0] == 'masters':\n",
        "        query = \"\"\"\n",
        "        PREFIX rdf: <http://www.w3.org/1999/02/22-rdf-syntax-ns#>\n",
        "        PREFIX owl: <http://www.w3.org/2002/07/owl#>\n",
        "        PREFIX rdfs: <http://www.w3.org/2000/01/rdf-schema#>\n",
        "        PREFIX xsd: <http://www.w3.org/2001/XMLSchema#>\n",
        "        PREFIX your_namespace: <http://www.semanticweb.org/sepideh/ontologies/2023/5/university-ontology#>\n",
        "\n",
        "        SELECT ?value\n",
        "        WHERE {\n",
        "        your_namespace:قانون_فارغ_التحصیلی your_namespace:حداقل_تعداد_دروس_اصلی ?value .\n",
        "        }\n",
        "      \"\"\"\n",
        "        results = graph.query(query)\n",
        "\n",
        "        # Print the results\n",
        "        for row in results:\n",
        "            value = row[\"value\"]\n",
        "            print(value)\n",
        "\n",
        "\n",
        "\n",
        "\n",
        "\n",
        "elif test_pred_labels == 8:\n",
        "    if df['y'][0] == 'computer engineering':\n",
        "        query = \"\"\"\n",
        "        PREFIX rdf: <http://www.w3.org/1999/02/22-rdf-syntax-ns#>\n",
        "        PREFIX owl: <http://www.w3.org/2002/07/owl#>\n",
        "        PREFIX rdfs: <http://www.w3.org/2000/01/rdf-schema#>\n",
        "        PREFIX xsd: <http://www.w3.org/2001/XMLSchema#>\n",
        "        PREFIX your_namespace: <http://www.semanticweb.org/sepideh/ontologies/2023/5/university-ontology#>\n",
        "\n",
        "        SELECT ?value\n",
        "        WHERE {\n",
        "        your_namespace:دانشکده_کامپیوتر_بهشتی your_namespace:رمز_وای_فای ?value .\n",
        "        }\n",
        "      \"\"\"\n",
        "        results = graph.query(query)\n",
        "\n",
        "        # Print the results\n",
        "        for row in results:\n",
        "            value = row[\"value\"]\n",
        "            print(value)\n",
        "\n",
        "\n",
        "elif test_pred_labels == 9:\n",
        "    if df['c'][0] == 'ai':\n",
        "        query = \"\"\"\n",
        "        PREFIX rdf: <http://www.w3.org/1999/02/22-rdf-syntax-ns#>\n",
        "        PREFIX owl: <http://www.w3.org/2002/07/owl#>\n",
        "        PREFIX rdfs: <http://www.w3.org/2000/01/rdf-schema#>\n",
        "        PREFIX xsd: <http://www.w3.org/2001/XMLSchema#>\n",
        "        PREFIX your_namespace: <http://www.semanticweb.org/sepideh/ontologies/2023/5/university-ontology#>\n",
        "\n",
        "        SELECT ?destination\n",
        "        WHERE {\n",
        "          your_namespace:درس_هوش_مصنوعی_در_ترم_دوم_سال_1402 your_namespace:برگزار_میشود_در ?destination .\n",
        "        }\n",
        "      \"\"\"\n",
        "        results = graph.query(query)\n",
        "\n",
        "        for row in results:\n",
        "            destination = row.destination.toPython()\n",
        "            label = destination.split(\"#\")[-1]\n",
        "            print(label)\n",
        "\n",
        "\n",
        "elif test_pred_labels == 10:\n",
        "    if df['z'][0] == 'masters' and df['t'][0] == '1400':\n",
        "        query = \"\"\"\n",
        "        PREFIX rdf: <http://www.w3.org/1999/02/22-rdf-syntax-ns#>\n",
        "        PREFIX owl: <http://www.w3.org/2002/07/owl#>\n",
        "        PREFIX rdfs: <http://www.w3.org/2000/01/rdf-schema#>\n",
        "        PREFIX xsd: <http://www.w3.org/2001/XMLSchema#>\n",
        "        PREFIX your_namespace: <http://www.semanticweb.org/sepideh/ontologies/2023/5/university-ontology#>\n",
        "\n",
        "        SELECT ?value\n",
        "        WHERE {\n",
        "        your_namespace:قانون_مرتبط_با_پایان_نامه_ارشد your_namespace:مهلت_دفاع_پایان_نامه ?value .\n",
        "        }\n",
        "      \"\"\"\n",
        "        results = graph.query(query)\n",
        "\n",
        "        # Print the results\n",
        "        for row in results:\n",
        "            value = row[\"value\"]\n",
        "            print(value)\n",
        "\n",
        "\n",
        "\n",
        "elif test_pred_labels == 11:\n",
        "\n",
        "    query = \"\"\"\n",
        "    PREFIX rdf: <http://www.w3.org/1999/02/22-rdf-syntax-ns#>\n",
        "       PREFIX owl: <http://www.w3.org/2002/07/owl#>\n",
        "        PREFIX rdfs: <http://www.w3.org/2000/01/rdf-schema#>\n",
        "        PREFIX xsd: <http://www.w3.org/2001/XMLSchema#>\n",
        "        PREFIX your_namespace: <http://www.semanticweb.org/sepideh/ontologies/2023/5/university-ontology#>\n",
        "\n",
        "        SELECT ?value\n",
        "        WHERE {\n",
        "        your_namespace:معاونت_آموزشی_دانشکده_کامپیوتر_بهشتی your_namespace:منصوب_میشود_به ?value .\n",
        "        }\n",
        "      \"\"\"\n",
        "    results = graph.query(query)\n",
        "\n",
        "    # Print the results\n",
        "    for row in results:\n",
        "        value = row[\"value\"]\n",
        "        print(value)\n",
        "\n",
        "\n",
        "\n",
        "elif test_pred_labels == 12:\n",
        "    if df['b'][0] == 'russel':\n",
        "        query = \"\"\"\n",
        "    PREFIX rdf: <http://www.w3.org/1999/02/22-rdf-syntax-ns#>\n",
        "       PREFIX owl: <http://www.w3.org/2002/07/owl#>\n",
        "        PREFIX rdfs: <http://www.w3.org/2000/01/rdf-schema#>\n",
        "        PREFIX xsd: <http://www.w3.org/2001/XMLSchema#>\n",
        "        PREFIX your_namespace: <http://www.semanticweb.org/sepideh/ontologies/2023/5/university-ontology#>\n",
        "\n",
        "        SELECT ?value\n",
        "        WHERE {\n",
        "        your_namespace:کتاب__راسل your_namespace:موجود_است_در ?value .\n",
        "        }\n",
        "      \"\"\"\n",
        "        results = graph.query(query)\n",
        "\n",
        "    # Print the results\n",
        "        for row in results:\n",
        "            value = row[\"value\"]\n",
        "            print(value)\n",
        "\n",
        "elif test_pred_labels == 13:\n",
        "    if df['cl'][0] == '104':\n",
        "        query = \"\"\"\n",
        "        PREFIX rdf: <http://www.w3.org/1999/02/22-rdf-syntax-ns#>\n",
        "        PREFIX owl: <http://www.w3.org/2002/07/owl#>\n",
        "        PREFIX rdfs: <http://www.w3.org/2000/01/rdf-schema#>\n",
        "        PREFIX xsd: <http://www.w3.org/2001/XMLSchema#>\n",
        "        PREFIX your_namespace: <http://www.semanticweb.org/sepideh/ontologies/2023/5/university-ontology#>\n",
        "\n",
        "        SELECT ?value\n",
        "        WHERE {\n",
        "        your_namespace:کلاس_104_دانشکده_کامپیوتر your_namespace:آدرس_مکان ?value .\n",
        "        }\n",
        "      \"\"\"\n",
        "        results = graph.query(query)\n",
        "\n",
        "        # Print the results\n",
        "        for row in results:\n",
        "            value = row[\"value\"]\n",
        "            print(value)\n",
        "\n",
        "\n",
        "\n",
        "elif test_pred_labels == 14:\n",
        "    query = \"\"\"\n",
        "PREFIX rdf: <http://www.w3.org/1999/02/22-rdf-syntax-ns#>\n",
        "PREFIX owl: <http://www.w3.org/2002/07/owl#>\n",
        "PREFIX rdfs: <http://www.w3.org/2000/01/rdf-schema#>\n",
        "PREFIX xsd: <http://www.w3.org/2001/XMLSchema#>\n",
        "PREFIX your_namespace: <http://www.semanticweb.org/sepideh/ontologies/2023/5/university-ontology#>\n",
        "\n",
        "SELECT ?value\n",
        "WHERE {\n",
        "  your_namespace:قانون_خوابگاه_برای_پردیس your_namespace:تعلق_میگیرد ?value .\n",
        "}\n",
        "    \"\"\"\n",
        "    results = graph.query(query)\n",
        "\n",
        "    # Print the results\n",
        "    for row in results:\n",
        "        value = row[\"value\"]\n",
        "        if (value.value==False):\n",
        "            print(\"تعلق نمیگیرد\")\n",
        "        if (value.value==True):\n",
        "            print(\"تعلق میگیرد\")\n",
        "\n",
        "\n",
        "elif test_pred_labels == 15:\n",
        "\n",
        "    query = \"\"\"\n",
        "PREFIX rdf: <http://www.w3.org/1999/02/22-rdf-syntax-ns#>\n",
        "PREFIX owl: <http://www.w3.org/2002/07/owl#>\n",
        "PREFIX rdfs: <http://www.w3.org/2000/01/rdf-schema#>\n",
        "PREFIX xsd: <http://www.w3.org/2001/XMLSchema#>\n",
        "PREFIX your_namespace: <http://www.semanticweb.org/sepideh/ontologies/2023/5/university-ontology#>\n",
        "\n",
        "SELECT ?value\n",
        "WHERE {\n",
        "  your_namespace:کتابخانه_مرکزی_دانشکده_بهشتی your_namespace:آدرس_مکان ?value .\n",
        "}\n",
        "    \"\"\"\n",
        "    results = graph.query(query)\n",
        "\n",
        "    # Print the results\n",
        "    for row in results:\n",
        "        value = row[\"value\"]\n",
        "        print(value)\n",
        "\n",
        "\n",
        "elif test_pred_labels == 16:\n",
        "\n",
        "    query = \"\"\"\n",
        "PREFIX rdf: <http://www.w3.org/1999/02/22-rdf-syntax-ns#>\n",
        "PREFIX owl: <http://www.w3.org/2002/07/owl#>\n",
        "PREFIX rdfs: <http://www.w3.org/2000/01/rdf-schema#>\n",
        "PREFIX xsd: <http://www.w3.org/2001/XMLSchema#>\n",
        "PREFIX your_namespace: <http://www.semanticweb.org/sepideh/ontologies/2023/5/university-ontology#>\n",
        "\n",
        "SELECT ?value\n",
        "WHERE {\n",
        "  your_namespace:قانون_آموزش_محور_برای_ارشد your_namespace:تعریف_آموزش_محور ?value .\n",
        "}\n",
        "    \"\"\"\n",
        "    results = graph.query(query)\n",
        "\n",
        "    # Print the results\n",
        "    for row in results:\n",
        "        value = row[\"value\"]\n",
        "        print(value)\n",
        "\n",
        "\n",
        "elif test_pred_labels == 17:\n",
        "    if df['y'][0] == 'computer engineering':\n",
        "        query = \"\"\"\n",
        "PREFIX rdf: <http://www.w3.org/1999/02/22-rdf-syntax-ns#>\n",
        "PREFIX owl: <http://www.w3.org/2002/07/owl#>\n",
        "PREFIX rdfs: <http://www.w3.org/2000/01/rdf-schema#>\n",
        "PREFIX xsd: <http://www.w3.org/2001/XMLSchema#>\n",
        "PREFIX your_namespace: <http://www.semanticweb.org/sepideh/ontologies/2023/5/university-ontology#>\n",
        "\n",
        "SELECT ?value\n",
        "WHERE {\n",
        "  your_namespace:دانشکده_کامپیوتر_بهشتی your_namespace:گروه_آموزشی_دانشکده ?value .\n",
        "}\n",
        "    \"\"\"\n",
        "        results = graph.query(query)\n",
        "\n",
        "        # Print the results\n",
        "        for row in results:\n",
        "            value = row[\"value\"]\n",
        "            print(value)\n",
        "\n",
        "\n",
        "elif test_pred_labels == 18:\n",
        "\n",
        "    query = \"\"\"\n",
        "PREFIX rdf: <http://www.w3.org/1999/02/22-rdf-syntax-ns#>\n",
        "PREFIX owl: <http://www.w3.org/2002/07/owl#>\n",
        "PREFIX rdfs: <http://www.w3.org/2000/01/rdf-schema#>\n",
        "PREFIX xsd: <http://www.w3.org/2001/XMLSchema#>\n",
        "PREFIX your_namespace: <http://www.semanticweb.org/sepideh/ontologies/2023/5/university-ontology#>\n",
        "\n",
        "SELECT ?instance\n",
        "WHERE {\n",
        "  ?subclass rdfs:subClassOf your_namespace:استاد .\n",
        "  ?instance rdf:type ?subclass .\n",
        "}\n",
        "    \"\"\"\n",
        "    results = graph.query(query)\n",
        "\n",
        "    for row in results:\n",
        "        instance_uri = row['instance']\n",
        "        instance_local_name = instance_uri.split('#')[-1]\n",
        "        print(instance_local_name)\n",
        "\n",
        "\n",
        "if test_pred_labels == 19:\n",
        "    if df['x'][0] == 'shamsfard':\n",
        "        query = \"\"\"\n",
        "        PREFIX rdf: <http://www.w3.org/1999/02/22-rdf-syntax-ns#>\n",
        "        PREFIX owl: <http://www.w3.org/2002/07/owl#>\n",
        "        PREFIX rdfs: <http://www.w3.org/2000/01/rdf-schema#>\n",
        "        PREFIX xsd: <http://www.w3.org/2001/XMLSchema#>\n",
        "        PREFIX your_namespace: <http://www.semanticweb.org/sepideh/ontologies/2023/5/university-ontology#>\n",
        "\n",
        "        SELECT ?value\n",
        "        WHERE {\n",
        "        your_namespace:دفتر_دکتر_شمس_فرد your_namespace:ساعت_حضور ?value .\n",
        "        }\n",
        "      \"\"\"\n",
        "        results = graph.query(query)\n",
        "\n",
        "    # Print the results\n",
        "        for row in results:\n",
        "            value = row[\"value\"]\n",
        "            print(value)\n",
        "\n"
      ],
      "metadata": {
        "colab": {
          "base_uri": "https://localhost:8080/"
        },
        "id": "pK4HYZde7SqD",
        "outputId": "bf25c144-204d-4092-fae7-991d67cda512"
      },
      "execution_count": null,
      "outputs": [
        {
          "output_type": "stream",
          "name": "stdout",
          "text": [
            "5\n"
          ]
        }
      ]
    },
    {
      "cell_type": "code",
      "source": [
        "df['y'][0] ="
      ],
      "metadata": {
        "id": "PxFkAqa7P2mS"
      },
      "execution_count": null,
      "outputs": []
    }
  ]
}